{
 "cells": [
  {
   "cell_type": "markdown",
   "id": "3bee7efc",
   "metadata": {},
   "source": [
    "### Connect to Mysql"
   ]
  },
  {
   "cell_type": "code",
   "execution_count": 1,
   "id": "f5405e71",
   "metadata": {},
   "outputs": [],
   "source": [
    "import mysql.connector\n",
    "import pandas as pd"
   ]
  },
  {
   "cell_type": "markdown",
   "id": "0625c9f0",
   "metadata": {},
   "source": [
    "### local database"
   ]
  },
  {
   "cell_type": "code",
   "execution_count": 2,
   "id": "2f9598a8",
   "metadata": {},
   "outputs": [],
   "source": [
    "host_name =\"localhost\"\n",
    "user_name = \"root\"\n",
    "password = \"123456\"\n",
    "database_name =\"testdatabase\""
   ]
  },
  {
   "cell_type": "code",
   "execution_count": 3,
   "id": "ab91a69a",
   "metadata": {},
   "outputs": [
    {
     "name": "stdout",
     "output_type": "stream",
     "text": [
      "Connected\n"
     ]
    }
   ],
   "source": [
    "# connect to db function\n",
    "def connect_db(host_name, user_name, password, database_name):\n",
    "    try:\n",
    "            conn = mysql.connector.connect(\n",
    "                host = host_name,\n",
    "                user = user_name,\n",
    "                password = password,\n",
    "                database = database_name\n",
    "            )\n",
    "    except: \n",
    "        print(\"Something went wrong\")\n",
    "    else:\n",
    "        print(\"Connected\")\n",
    "        return conn\n",
    "\n",
    "# call function\n",
    "conn = connect_db(host_name, user_name, password, database_name)"
   ]
  },
  {
   "cell_type": "markdown",
   "id": "cde8ff5f",
   "metadata": {},
   "source": [
    "### Create table "
   ]
  },
  {
   "cell_type": "code",
   "execution_count": 4,
   "id": "55752ea0",
   "metadata": {},
   "outputs": [],
   "source": [
    "def create_table(mycursor):\n",
    "    create_table_command = \"\"\"CREATE TABLE chicago(\n",
    "        ca SMALLINT,\n",
    "        community_area VARCHAR(50) NOT NULL,\n",
    "        percent_of_housing_crowded FLOAT NOT NULL,\n",
    "        percent_households_below_poverty FLOAT NOT NULL,\n",
    "        percent_aged_16_unemployed FLOAT NOT NULL,\n",
    "        percent_aged_25_without_high_school_diploma FLOAT NOT NULL,\n",
    "        percent_aged_under_18_or_over_64 FLOAT NOT NULL,\n",
    "        per_capita_income INTEGER NOT NULL,\n",
    "        hardship_index SMALLINT\n",
    "        \n",
    "    )\"\"\"\n",
    "    mycursor.execute(create_table_command)\n"
   ]
  },
  {
   "cell_type": "markdown",
   "id": "a9814016",
   "metadata": {},
   "source": [
    "### read csv file"
   ]
  },
  {
   "cell_type": "code",
   "execution_count": 5,
   "id": "96b2f5b5",
   "metadata": {},
   "outputs": [
    {
     "data": {
      "text/html": [
       "<div>\n",
       "<style scoped>\n",
       "    .dataframe tbody tr th:only-of-type {\n",
       "        vertical-align: middle;\n",
       "    }\n",
       "\n",
       "    .dataframe tbody tr th {\n",
       "        vertical-align: top;\n",
       "    }\n",
       "\n",
       "    .dataframe thead th {\n",
       "        text-align: right;\n",
       "    }\n",
       "</style>\n",
       "<table border=\"1\" class=\"dataframe\">\n",
       "  <thead>\n",
       "    <tr style=\"text-align: right;\">\n",
       "      <th></th>\n",
       "      <th>ca</th>\n",
       "      <th>community_area_name</th>\n",
       "      <th>percent_of_housing_crowded</th>\n",
       "      <th>percent_households_below_poverty</th>\n",
       "      <th>percent_aged_16_unemployed</th>\n",
       "      <th>percent_aged_25_without_high_school_diploma</th>\n",
       "      <th>percent_aged_under_18_or_over_64</th>\n",
       "      <th>per_capita_income_</th>\n",
       "      <th>hardship_index</th>\n",
       "    </tr>\n",
       "  </thead>\n",
       "  <tbody>\n",
       "    <tr>\n",
       "      <th>0</th>\n",
       "      <td>1.0</td>\n",
       "      <td>Rogers Park</td>\n",
       "      <td>7.7</td>\n",
       "      <td>23.6</td>\n",
       "      <td>8.7</td>\n",
       "      <td>18.2</td>\n",
       "      <td>27.5</td>\n",
       "      <td>23939</td>\n",
       "      <td>39.0</td>\n",
       "    </tr>\n",
       "    <tr>\n",
       "      <th>1</th>\n",
       "      <td>2.0</td>\n",
       "      <td>West Ridge</td>\n",
       "      <td>7.8</td>\n",
       "      <td>17.2</td>\n",
       "      <td>8.8</td>\n",
       "      <td>20.8</td>\n",
       "      <td>38.5</td>\n",
       "      <td>23040</td>\n",
       "      <td>46.0</td>\n",
       "    </tr>\n",
       "    <tr>\n",
       "      <th>2</th>\n",
       "      <td>3.0</td>\n",
       "      <td>Uptown</td>\n",
       "      <td>3.8</td>\n",
       "      <td>24.0</td>\n",
       "      <td>8.9</td>\n",
       "      <td>11.8</td>\n",
       "      <td>22.2</td>\n",
       "      <td>35787</td>\n",
       "      <td>20.0</td>\n",
       "    </tr>\n",
       "    <tr>\n",
       "      <th>3</th>\n",
       "      <td>4.0</td>\n",
       "      <td>Lincoln Square</td>\n",
       "      <td>3.4</td>\n",
       "      <td>10.9</td>\n",
       "      <td>8.2</td>\n",
       "      <td>13.4</td>\n",
       "      <td>25.5</td>\n",
       "      <td>37524</td>\n",
       "      <td>17.0</td>\n",
       "    </tr>\n",
       "    <tr>\n",
       "      <th>4</th>\n",
       "      <td>5.0</td>\n",
       "      <td>North Center</td>\n",
       "      <td>0.3</td>\n",
       "      <td>7.5</td>\n",
       "      <td>5.2</td>\n",
       "      <td>4.5</td>\n",
       "      <td>26.2</td>\n",
       "      <td>57123</td>\n",
       "      <td>6.0</td>\n",
       "    </tr>\n",
       "  </tbody>\n",
       "</table>\n",
       "</div>"
      ],
      "text/plain": [
       "    ca community_area_name  percent_of_housing_crowded  \\\n",
       "0  1.0         Rogers Park                         7.7   \n",
       "1  2.0          West Ridge                         7.8   \n",
       "2  3.0              Uptown                         3.8   \n",
       "3  4.0      Lincoln Square                         3.4   \n",
       "4  5.0        North Center                         0.3   \n",
       "\n",
       "   percent_households_below_poverty  percent_aged_16_unemployed  \\\n",
       "0                              23.6                         8.7   \n",
       "1                              17.2                         8.8   \n",
       "2                              24.0                         8.9   \n",
       "3                              10.9                         8.2   \n",
       "4                               7.5                         5.2   \n",
       "\n",
       "   percent_aged_25_without_high_school_diploma  \\\n",
       "0                                         18.2   \n",
       "1                                         20.8   \n",
       "2                                         11.8   \n",
       "3                                         13.4   \n",
       "4                                          4.5   \n",
       "\n",
       "   percent_aged_under_18_or_over_64  per_capita_income_  hardship_index  \n",
       "0                              27.5               23939            39.0  \n",
       "1                              38.5               23040            46.0  \n",
       "2                              22.2               35787            20.0  \n",
       "3                              25.5               37524            17.0  \n",
       "4                              26.2               57123             6.0  "
      ]
     },
     "execution_count": 5,
     "metadata": {},
     "output_type": "execute_result"
    }
   ],
   "source": [
    "chicago_data = pd.read_csv('https://data.cityofchicago.org/resource/jcxq-k9xf.csv')\n",
    "chicago_data = chicago_data.dropna()\n",
    "\n",
    "chicago_data.head()\n"
   ]
  },
  {
   "cell_type": "markdown",
   "id": "8cae3ac3",
   "metadata": {},
   "source": [
    "### Make cursor"
   ]
  },
  {
   "cell_type": "code",
   "execution_count": 6,
   "id": "00c5a623",
   "metadata": {},
   "outputs": [],
   "source": [
    "# cursor() method, which returns a new cursor object using the connection\n",
    "mycursor = conn.cursor()\n",
    "try:\n",
    "    create_table(mycursor)\n",
    "except :\n",
    "    print(\"Table have already existed\")\n",
    "\n",
    "# commit \n",
    "# which is used to commit any pending transaction to database\n",
    "conn.commit()"
   ]
  },
  {
   "cell_type": "markdown",
   "id": "d8553756",
   "metadata": {},
   "source": [
    "### Load dataframe to database"
   ]
  },
  {
   "cell_type": "code",
   "execution_count": 7,
   "id": "d9ff6249",
   "metadata": {},
   "outputs": [],
   "source": [
    "# for index, row in chicago_data.iterrows():\n",
    "#         mycursor.execute(\"\"\"\n",
    "#      INSERT INTO chicago\n",
    "#      (ca,community_area,percent_of_housing_crowded, \n",
    "#      percent_households_below_poverty,  percent_aged_16_unemployed,\n",
    "#      percent_aged_25_without_high_school_diploma,percent_aged_under_18_or_over_64,\n",
    "#      per_capita_income, hardship_index) \n",
    "#      VALUES (%s,%s,%s,%s,%s,%s,%s,%s,%s)\n",
    "#      \"\"\",(row.ca, row.community_area_name,row.percent_of_housing_crowded, row.percent_households_below_poverty,\n",
    "#          row.percent_aged_16_unemployed,row.percent_aged_25_without_high_school_diploma,\n",
    "#          row.percent_aged_under_18_or_over_64, row.per_capita_income_, row.hardship_index)\n",
    "#     )\n",
    "# conn.commit()"
   ]
  },
  {
   "cell_type": "code",
   "execution_count": null,
   "id": "39346d0d",
   "metadata": {},
   "outputs": [],
   "source": []
  },
  {
   "cell_type": "code",
   "execution_count": null,
   "id": "cb897b02",
   "metadata": {},
   "outputs": [],
   "source": []
  }
 ],
 "metadata": {
  "kernelspec": {
   "display_name": "Python 3 (ipykernel)",
   "language": "python",
   "name": "python3"
  },
  "language_info": {
   "codemirror_mode": {
    "name": "ipython",
    "version": 3
   },
   "file_extension": ".py",
   "mimetype": "text/x-python",
   "name": "python",
   "nbconvert_exporter": "python",
   "pygments_lexer": "ipython3",
   "version": "3.9.7"
  }
 },
 "nbformat": 4,
 "nbformat_minor": 5
}
