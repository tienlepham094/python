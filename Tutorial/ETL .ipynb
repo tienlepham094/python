{
 "cells": [
  {
   "cell_type": "markdown",
   "id": "104c6849",
   "metadata": {},
   "source": [
    "# ETL in Python"
   ]
  },
  {
   "cell_type": "code",
   "execution_count": 7,
   "id": "1822d538",
   "metadata": {},
   "outputs": [
    {
     "name": "stdout",
     "output_type": "stream",
     "text": [
      "['pokemon_data.csv', 'rice_beef_coffee_price_changes.csv']\n"
     ]
    }
   ],
   "source": [
    "# import glob to get file with different type\n",
    "import glob\n",
    "\n",
    "#get all .csv file\n",
    "list_csv = glob.glob('*.csv')\n",
    "print(list_csv)"
   ]
  },
  {
   "cell_type": "markdown",
   "id": "62789877",
   "metadata": {},
   "source": [
    "## 1. Extract CSV\n"
   ]
  },
  {
   "cell_type": "code",
   "execution_count": 17,
   "id": "348948e9",
   "metadata": {},
   "outputs": [],
   "source": [
    "import pandas as pd\n",
    "def extract_from_csv(file):\n",
    "    dataframe = pd.read_csv(file)\n",
    "    return dataframe\n",
    "\n",
    "# create empty dataframe\n",
    "df_list = pd.DataFrame()\n",
    "\n",
    "# put data to dataframe\n",
    "for file in list_csv:\n",
    "     df_list = df_list.append(extract_from_csv(file), ignore_index =True)\n"
   ]
  },
  {
   "cell_type": "markdown",
   "id": "eebc4dac",
   "metadata": {},
   "source": [
    "## 2. Transfrom"
   ]
  },
  {
   "cell_type": "code",
   "execution_count": null,
   "id": "feac1a63",
   "metadata": {},
   "outputs": [],
   "source": []
  }
 ],
 "metadata": {
  "kernelspec": {
   "display_name": "Python 3 (ipykernel)",
   "language": "python",
   "name": "python3"
  },
  "language_info": {
   "codemirror_mode": {
    "name": "ipython",
    "version": 3
   },
   "file_extension": ".py",
   "mimetype": "text/x-python",
   "name": "python",
   "nbconvert_exporter": "python",
   "pygments_lexer": "ipython3",
   "version": "3.9.7"
  }
 },
 "nbformat": 4,
 "nbformat_minor": 5
}
