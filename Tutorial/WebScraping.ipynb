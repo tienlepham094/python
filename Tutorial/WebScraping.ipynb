{
 "cells": [
  {
   "cell_type": "markdown",
   "id": "6b54930e",
   "metadata": {},
   "source": [
    "# Web scraping"
   ]
  },
  {
   "cell_type": "markdown",
   "id": "a2739bdc",
   "metadata": {},
   "source": [
    "## 1. Import Beautiful Soup"
   ]
  },
  {
   "cell_type": "code",
   "execution_count": 1,
   "id": "a19e1b5e",
   "metadata": {},
   "outputs": [],
   "source": [
    "from bs4 import BeautifulSoup"
   ]
  },
  {
   "cell_type": "code",
   "execution_count": 4,
   "id": "54fc48f5",
   "metadata": {},
   "outputs": [],
   "source": [
    "## html table\n",
    "table=\"<table><tr><td id='flight'>Flight No</td><td>Launch site</td> <td>Payload mass</td></tr><tr> <td>1</td><td><a href='https://en.wikipedia.org/wiki/Florida'>Florida<a></td><td>300 kg</td></tr><tr><td>2</td><td><a href='https://en.wikipedia.org/wiki/Texas'>Texas</a></td><td>94 kg</td></tr><tr><td>3</td><td><a href='https://en.wikipedia.org/wiki/Florida'>Florida<a> </td><td>80 kg</td></tr></table>\""
   ]
  },
  {
   "cell_type": "markdown",
   "id": "338c233d",
   "metadata": {},
   "source": [
    "Get Html page"
   ]
  },
  {
   "cell_type": "code",
   "execution_count": 10,
   "id": "a454a709",
   "metadata": {},
   "outputs": [],
   "source": [
    "table = BeautifulSoup(table, \"html.parser\")\n",
    "\n",
    "# print(table.prettify())"
   ]
  },
  {
   "cell_type": "markdown",
   "id": "8662961c",
   "metadata": {},
   "source": [
    "find all"
   ]
  },
  {
   "cell_type": "code",
   "execution_count": 12,
   "id": "9735c26e",
   "metadata": {},
   "outputs": [],
   "source": [
    "table_rows = table.find_all('tr')\n",
    "# print(table_rows)"
   ]
  },
  {
   "cell_type": "code",
   "execution_count": 13,
   "id": "8cde33f1",
   "metadata": {},
   "outputs": [
    {
     "name": "stdout",
     "output_type": "stream",
     "text": [
      "row 0 is <tr><td id=\"flight\">Flight No</td><td>Launch site</td> <td>Payload mass</td></tr>\n",
      "row 1 is <tr> <td>1</td><td><a href=\"https://en.wikipedia.org/wiki/Florida\">Florida<a></a></a></td><td>300 kg</td></tr>\n",
      "row 2 is <tr><td>2</td><td><a href=\"https://en.wikipedia.org/wiki/Texas\">Texas</a></td><td>94 kg</td></tr>\n",
      "row 3 is <tr><td>3</td><td><a href=\"https://en.wikipedia.org/wiki/Florida\">Florida<a> </a></a></td><td>80 kg</td></tr>\n"
     ]
    }
   ],
   "source": [
    "for i,row in enumerate(table_rows):\n",
    "    print(\"row\",i,\"is\",row)"
   ]
  },
  {
   "cell_type": "markdown",
   "id": "9b0c3aba",
   "metadata": {},
   "source": [
    "## 2.Beautiful Soup + Requests"
   ]
  },
  {
   "cell_type": "code",
   "execution_count": 17,
   "id": "e589e55d",
   "metadata": {},
   "outputs": [],
   "source": [
    "import pandas as pd\n",
    "#import request\n",
    "import requests"
   ]
  },
  {
   "cell_type": "code",
   "execution_count": 18,
   "id": "b12dc307",
   "metadata": {},
   "outputs": [],
   "source": [
    "url = \"https://en.wikipedia.org/wiki/World_population\""
   ]
  },
  {
   "cell_type": "code",
   "execution_count": 23,
   "id": "5556e917",
   "metadata": {},
   "outputs": [],
   "source": [
    "# get the contents of the webpage in text format and store in a variable called data\n",
    "data  = requests.get(url).text\n",
    "\n",
    "# print(data)"
   ]
  },
  {
   "cell_type": "code",
   "execution_count": 22,
   "id": "c26b5fe4",
   "metadata": {},
   "outputs": [],
   "source": [
    "soup = BeautifulSoup(data, \"html.parser\")\n",
    "\n",
    "# print(soup.prettify())"
   ]
  },
  {
   "cell_type": "code",
   "execution_count": 24,
   "id": "a065e7d1",
   "metadata": {},
   "outputs": [
    {
     "name": "stdout",
     "output_type": "stream",
     "text": [
      "<table><tr><td id='flight'>Flight No</td><td>Launch site</td> <td>Payload mass</td></tr><tr> <td>1</td><td><a href='https://en.wikipedia.org/wiki/Florida'>Florida<a></td><td>300 kg</td></tr><tr><td>2</td><td><a href='https://en.wikipedia.org/wiki/Texas'>Texas</a></td><td>94 kg</td></tr><tr><td>3</td><td><a href='https://en.wikipedia.org/wiki/Florida'>Florida<a> </td><td>80 kg</td></tr></table>\n"
     ]
    }
   ],
   "source": [
    "#find all html tables in the web page\n",
    "tables = soup.find_all('table') # in html table is represented by the tag <table>\n",
    "print(table)"
   ]
  },
  {
   "cell_type": "code",
   "execution_count": 25,
   "id": "e30132f9",
   "metadata": {},
   "outputs": [
    {
     "data": {
      "text/html": [
       "<div>\n",
       "<style scoped>\n",
       "    .dataframe tbody tr th:only-of-type {\n",
       "        vertical-align: middle;\n",
       "    }\n",
       "\n",
       "    .dataframe tbody tr th {\n",
       "        vertical-align: top;\n",
       "    }\n",
       "\n",
       "    .dataframe thead th {\n",
       "        text-align: right;\n",
       "    }\n",
       "</style>\n",
       "<table border=\"1\" class=\"dataframe\">\n",
       "  <thead>\n",
       "    <tr style=\"text-align: right;\">\n",
       "      <th></th>\n",
       "      <th>Rank</th>\n",
       "      <th>Country</th>\n",
       "      <th>Population</th>\n",
       "      <th>Area</th>\n",
       "      <th>Density</th>\n",
       "    </tr>\n",
       "  </thead>\n",
       "  <tbody>\n",
       "    <tr>\n",
       "      <th>0</th>\n",
       "      <td>Asia\\n</td>\n",
       "      <td>104.1\\n</td>\n",
       "      <td>4,641</td>\n",
       "      <td>1,411,778,000[note 1] –  China</td>\n",
       "      <td>37,400,000/13,515,000 –  Greater Tokyo Area/To...</td>\n",
       "    </tr>\n",
       "    <tr>\n",
       "      <th>1</th>\n",
       "      <td>Africa\\n</td>\n",
       "      <td>44.4\\n</td>\n",
       "      <td>1,340</td>\n",
       "      <td>0211,401,000 –  Nigeria</td>\n",
       "      <td>20,076,000/9,500,000 –  Greater Cairo/Cairo</td>\n",
       "    </tr>\n",
       "    <tr>\n",
       "      <th>2</th>\n",
       "      <td>Europe\\n</td>\n",
       "      <td>73.4\\n</td>\n",
       "      <td>747</td>\n",
       "      <td>0146,171,000 –  Russia;approx. 110 million in ...</td>\n",
       "      <td>20,004,000/13,200,000 –  Moscow metropolitan a...</td>\n",
       "    </tr>\n",
       "    <tr>\n",
       "      <th>3</th>\n",
       "      <td>Latin America\\n</td>\n",
       "      <td>24.1\\n</td>\n",
       "      <td>653</td>\n",
       "      <td>0214,103,000 –  Brazil</td>\n",
       "      <td>21,650,000/12,252,000 –  São Paulo Metro Area/...</td>\n",
       "    </tr>\n",
       "    <tr>\n",
       "      <th>4</th>\n",
       "      <td>Northern America[note 2]\\n</td>\n",
       "      <td>14.9\\n</td>\n",
       "      <td>368</td>\n",
       "      <td>0332,909,000 –  United States</td>\n",
       "      <td>18,819,000/8,804,000 –  New York metropolitan ...</td>\n",
       "    </tr>\n",
       "    <tr>\n",
       "      <th>5</th>\n",
       "      <td>Oceania\\n</td>\n",
       "      <td>5\\n</td>\n",
       "      <td>42</td>\n",
       "      <td>0025,917,000 –  Australia</td>\n",
       "      <td>5,367,000 –  Sydney</td>\n",
       "    </tr>\n",
       "    <tr>\n",
       "      <th>6</th>\n",
       "      <td>Antarctica\\n</td>\n",
       "      <td>~0\\n</td>\n",
       "      <td>0.004[17]</td>\n",
       "      <td>N/A[note 3]</td>\n",
       "      <td>1,258 – McMurdo Station</td>\n",
       "    </tr>\n",
       "  </tbody>\n",
       "</table>\n",
       "</div>"
      ],
      "text/plain": [
       "                         Rank  Country Population  \\\n",
       "0                      Asia\\n  104.1\\n      4,641   \n",
       "1                    Africa\\n   44.4\\n      1,340   \n",
       "2                    Europe\\n   73.4\\n        747   \n",
       "3             Latin America\\n   24.1\\n        653   \n",
       "4  Northern America[note 2]\\n   14.9\\n        368   \n",
       "5                   Oceania\\n      5\\n         42   \n",
       "6                Antarctica\\n     ~0\\n  0.004[17]   \n",
       "\n",
       "                                                Area  \\\n",
       "0                     1,411,778,000[note 1] –  China   \n",
       "1                            0211,401,000 –  Nigeria   \n",
       "2  0146,171,000 –  Russia;approx. 110 million in ...   \n",
       "3                             0214,103,000 –  Brazil   \n",
       "4                      0332,909,000 –  United States   \n",
       "5                          0025,917,000 –  Australia   \n",
       "6                                        N/A[note 3]   \n",
       "\n",
       "                                             Density  \n",
       "0  37,400,000/13,515,000 –  Greater Tokyo Area/To...  \n",
       "1        20,076,000/9,500,000 –  Greater Cairo/Cairo  \n",
       "2  20,004,000/13,200,000 –  Moscow metropolitan a...  \n",
       "3  21,650,000/12,252,000 –  São Paulo Metro Area/...  \n",
       "4  18,819,000/8,804,000 –  New York metropolitan ...  \n",
       "5                                5,367,000 –  Sydney  \n",
       "6                            1,258 – McMurdo Station  "
      ]
     },
     "execution_count": 25,
     "metadata": {},
     "output_type": "execute_result"
    }
   ],
   "source": [
    "population_data = pd.DataFrame(columns=[\"Rank\", \"Country\", \"Population\", \"Area\", \"Density\"])\n",
    "\n",
    "for row in tables[1].tbody.find_all(\"tr\"):\n",
    "    col = row.find_all(\"td\")\n",
    "    if (col != []):\n",
    "        rank = col[0].text\n",
    "        country = col[1].text\n",
    "        population = col[2].text.strip()\n",
    "        area = col[3].text.strip()\n",
    "        density = col[4].text.strip()\n",
    "        population_data = population_data.append({\"Rank\":rank, \"Country\":country, \"Population\":population, \"Area\":area, \"Density\":density}, ignore_index=True)\n",
    "\n",
    "population_data"
   ]
  },
  {
   "cell_type": "markdown",
   "id": "378dd46d",
   "metadata": {},
   "source": [
    "## 3. Pandas read HTML"
   ]
  },
  {
   "cell_type": "code",
   "execution_count": 33,
   "id": "7ff92b37",
   "metadata": {},
   "outputs": [
    {
     "data": {
      "text/html": [
       "<div>\n",
       "<style scoped>\n",
       "    .dataframe tbody tr th:only-of-type {\n",
       "        vertical-align: middle;\n",
       "    }\n",
       "\n",
       "    .dataframe tbody tr th {\n",
       "        vertical-align: top;\n",
       "    }\n",
       "\n",
       "    .dataframe thead tr th {\n",
       "        text-align: left;\n",
       "    }\n",
       "</style>\n",
       "<table border=\"1\" class=\"dataframe\">\n",
       "  <thead>\n",
       "    <tr>\n",
       "      <th></th>\n",
       "      <th colspan=\"11\" halign=\"left\">World population milestones in billions (Worldometers estimates)</th>\n",
       "    </tr>\n",
       "    <tr>\n",
       "      <th></th>\n",
       "      <th>Population</th>\n",
       "      <th>1</th>\n",
       "      <th>2</th>\n",
       "      <th>3</th>\n",
       "      <th>4</th>\n",
       "      <th>5</th>\n",
       "      <th>6</th>\n",
       "      <th>7</th>\n",
       "      <th>8</th>\n",
       "      <th>9</th>\n",
       "      <th>10</th>\n",
       "    </tr>\n",
       "  </thead>\n",
       "  <tbody>\n",
       "    <tr>\n",
       "      <th>0</th>\n",
       "      <td>Year</td>\n",
       "      <td>1804</td>\n",
       "      <td>1927</td>\n",
       "      <td>1960</td>\n",
       "      <td>1974</td>\n",
       "      <td>1987</td>\n",
       "      <td>1999</td>\n",
       "      <td>2011</td>\n",
       "      <td>2023</td>\n",
       "      <td>2037</td>\n",
       "      <td>2056</td>\n",
       "    </tr>\n",
       "    <tr>\n",
       "      <th>1</th>\n",
       "      <td>Years elapsed</td>\n",
       "      <td>—</td>\n",
       "      <td>123</td>\n",
       "      <td>33</td>\n",
       "      <td>14</td>\n",
       "      <td>13</td>\n",
       "      <td>12</td>\n",
       "      <td>12</td>\n",
       "      <td>12</td>\n",
       "      <td>14</td>\n",
       "      <td>19</td>\n",
       "    </tr>\n",
       "  </tbody>\n",
       "</table>\n",
       "</div>"
      ],
      "text/plain": [
       "  World population milestones in billions (Worldometers estimates)        \\\n",
       "                                                        Population     1   \n",
       "0                                               Year                1804   \n",
       "1                                      Years elapsed                   —   \n",
       "\n",
       "                                                         \n",
       "      2     3     4     5     6     7     8     9    10  \n",
       "0  1927  1960  1974  1987  1999  2011  2023  2037  2056  \n",
       "1   123    33    14    13    12    12    12    14    19  "
      ]
     },
     "execution_count": 33,
     "metadata": {},
     "output_type": "execute_result"
    }
   ],
   "source": [
    "df = pd.read_html(str(tables[2]), flavor='bs4')[0]\n",
    "df"
   ]
  },
  {
   "cell_type": "code",
   "execution_count": null,
   "id": "36def85f",
   "metadata": {},
   "outputs": [],
   "source": []
  }
 ],
 "metadata": {
  "kernelspec": {
   "display_name": "Python 3 (ipykernel)",
   "language": "python",
   "name": "python3"
  },
  "language_info": {
   "codemirror_mode": {
    "name": "ipython",
    "version": 3
   },
   "file_extension": ".py",
   "mimetype": "text/x-python",
   "name": "python",
   "nbconvert_exporter": "python",
   "pygments_lexer": "ipython3",
   "version": "3.9.7"
  }
 },
 "nbformat": 4,
 "nbformat_minor": 5
}
