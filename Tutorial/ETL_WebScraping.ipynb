{
 "cells": [
  {
   "cell_type": "markdown",
   "id": "92bea680",
   "metadata": {},
   "source": [
    "# Webscraping and ETL\n"
   ]
  },
  {
   "cell_type": "markdown",
   "id": "c2fcfbca",
   "metadata": {},
   "source": [
    "## Import"
   ]
  },
  {
   "cell_type": "code",
   "execution_count": 1,
   "id": "37c37735",
   "metadata": {},
   "outputs": [],
   "source": [
    "from bs4 import BeautifulSoup\n",
    "import requests\n",
    "import pandas as pd\n"
   ]
  },
  {
   "cell_type": "markdown",
   "id": "3353ff48",
   "metadata": {},
   "source": [
    "get data"
   ]
  },
  {
   "cell_type": "code",
   "execution_count": 2,
   "id": "25190969",
   "metadata": {},
   "outputs": [],
   "source": [
    "url =\"https://en.wikipedia.org/wiki/List_of_largest_banks\"\n",
    "\n",
    "html_data = requests.get(url).text\n",
    "# print(html_data)"
   ]
  },
  {
   "cell_type": "markdown",
   "id": "e64cdde8",
   "metadata": {},
   "source": [
    "using beautifulSoup"
   ]
  },
  {
   "cell_type": "markdown",
   "id": "be21588a",
   "metadata": {},
   "source": [
    "## 1. Extract"
   ]
  },
  {
   "cell_type": "code",
   "execution_count": 3,
   "id": "6579e6e3",
   "metadata": {},
   "outputs": [
    {
     "data": {
      "text/html": [
       "<div>\n",
       "<style scoped>\n",
       "    .dataframe tbody tr th:only-of-type {\n",
       "        vertical-align: middle;\n",
       "    }\n",
       "\n",
       "    .dataframe tbody tr th {\n",
       "        vertical-align: top;\n",
       "    }\n",
       "\n",
       "    .dataframe thead th {\n",
       "        text-align: right;\n",
       "    }\n",
       "</style>\n",
       "<table border=\"1\" class=\"dataframe\">\n",
       "  <thead>\n",
       "    <tr style=\"text-align: right;\">\n",
       "      <th></th>\n",
       "      <th>Name</th>\n",
       "      <th>Market Cap ($US Billion)</th>\n",
       "    </tr>\n",
       "  </thead>\n",
       "  <tbody>\n",
       "    <tr>\n",
       "      <th>0</th>\n",
       "      <td>JPMorgan Chase</td>\n",
       "      <td>368.78</td>\n",
       "    </tr>\n",
       "    <tr>\n",
       "      <th>1</th>\n",
       "      <td>Industrial and Commercial Bank of China</td>\n",
       "      <td>295.65</td>\n",
       "    </tr>\n",
       "    <tr>\n",
       "      <th>2</th>\n",
       "      <td>Bank of America</td>\n",
       "      <td>279.73</td>\n",
       "    </tr>\n",
       "    <tr>\n",
       "      <th>3</th>\n",
       "      <td>Wells Fargo</td>\n",
       "      <td>214.34</td>\n",
       "    </tr>\n",
       "    <tr>\n",
       "      <th>4</th>\n",
       "      <td>China Construction Bank</td>\n",
       "      <td>207.98</td>\n",
       "    </tr>\n",
       "  </tbody>\n",
       "</table>\n",
       "</div>"
      ],
      "text/plain": [
       "                                      Name Market Cap ($US Billion)\n",
       "0                           JPMorgan Chase                   368.78\n",
       "1  Industrial and Commercial Bank of China                   295.65\n",
       "2                          Bank of America                   279.73\n",
       "3                              Wells Fargo                   214.34\n",
       "4                  China Construction Bank                   207.98"
      ]
     },
     "execution_count": 3,
     "metadata": {},
     "output_type": "execute_result"
    }
   ],
   "source": [
    "soup = BeautifulSoup(html_data,\"html.parser\")\n",
    "# print(soup.prettify())\n",
    "data = pd.DataFrame(columns=[\"Name\",\"Market Cap ($US Billion)\"])\n",
    "\n",
    "for row in soup.find_all('tbody')[3].find_all('tr'):\n",
    "    col = row.find_all('td')\n",
    "    if(col !=[]):\n",
    "        name = col[1].text.strip()\n",
    "        market_cap = col[2].text.strip()\n",
    "        data = data.append({\"Name\": name, \"Market Cap ($US Billion)\":market_cap}, ignore_index=True)\n",
    "        \n",
    "data.head()"
   ]
  },
  {
   "cell_type": "markdown",
   "id": "3aaad3f9",
   "metadata": {},
   "source": [
    "# Extract API Data"
   ]
  },
  {
   "cell_type": "markdown",
   "id": "2cf5e547",
   "metadata": {},
   "source": [
    "## 1. Call api"
   ]
  },
  {
   "cell_type": "code",
   "execution_count": 6,
   "id": "82611a52",
   "metadata": {},
   "outputs": [],
   "source": [
    "url_api =\"http://api.exchangeratesapi.io/v1/latest?access_key=225420123fdfe8d2d47ba3d063b61fe3\"\n",
    "\n",
    "json_txt = requests.get(url_api).text\n",
    "\n",
    "# print(json_txt)"
   ]
  },
  {
   "cell_type": "markdown",
   "id": "43524893",
   "metadata": {},
   "source": [
    "## 2. Save as DataFrame"
   ]
  },
  {
   "cell_type": "code",
   "execution_count": 24,
   "id": "353791da",
   "metadata": {},
   "outputs": [
    {
     "data": {
      "text/html": [
       "<div>\n",
       "<style scoped>\n",
       "    .dataframe tbody tr th:only-of-type {\n",
       "        vertical-align: middle;\n",
       "    }\n",
       "\n",
       "    .dataframe tbody tr th {\n",
       "        vertical-align: top;\n",
       "    }\n",
       "\n",
       "    .dataframe thead th {\n",
       "        text-align: right;\n",
       "    }\n",
       "</style>\n",
       "<table border=\"1\" class=\"dataframe\">\n",
       "  <thead>\n",
       "    <tr style=\"text-align: right;\">\n",
       "      <th></th>\n",
       "      <th>success</th>\n",
       "      <th>timestamp</th>\n",
       "      <th>base</th>\n",
       "      <th>date</th>\n",
       "      <th>rates</th>\n",
       "    </tr>\n",
       "  </thead>\n",
       "  <tbody>\n",
       "    <tr>\n",
       "      <th>AED</th>\n",
       "      <td>True</td>\n",
       "      <td>2022-03-18 07:43:03</td>\n",
       "      <td>EUR</td>\n",
       "      <td>2022-03-18</td>\n",
       "      <td>4.067407</td>\n",
       "    </tr>\n",
       "    <tr>\n",
       "      <th>AFN</th>\n",
       "      <td>True</td>\n",
       "      <td>2022-03-18 07:43:03</td>\n",
       "      <td>EUR</td>\n",
       "      <td>2022-03-18</td>\n",
       "      <td>97.343947</td>\n",
       "    </tr>\n",
       "    <tr>\n",
       "      <th>ALL</th>\n",
       "      <td>True</td>\n",
       "      <td>2022-03-18 07:43:03</td>\n",
       "      <td>EUR</td>\n",
       "      <td>2022-03-18</td>\n",
       "      <td>122.733840</td>\n",
       "    </tr>\n",
       "    <tr>\n",
       "      <th>AMD</th>\n",
       "      <td>True</td>\n",
       "      <td>2022-03-18 07:43:03</td>\n",
       "      <td>EUR</td>\n",
       "      <td>2022-03-18</td>\n",
       "      <td>539.710864</td>\n",
       "    </tr>\n",
       "    <tr>\n",
       "      <th>ANG</th>\n",
       "      <td>True</td>\n",
       "      <td>2022-03-18 07:43:03</td>\n",
       "      <td>EUR</td>\n",
       "      <td>2022-03-18</td>\n",
       "      <td>1.989187</td>\n",
       "    </tr>\n",
       "  </tbody>\n",
       "</table>\n",
       "</div>"
      ],
      "text/plain": [
       "     success           timestamp base       date       rates\n",
       "AED     True 2022-03-18 07:43:03  EUR 2022-03-18    4.067407\n",
       "AFN     True 2022-03-18 07:43:03  EUR 2022-03-18   97.343947\n",
       "ALL     True 2022-03-18 07:43:03  EUR 2022-03-18  122.733840\n",
       "AMD     True 2022-03-18 07:43:03  EUR 2022-03-18  539.710864\n",
       "ANG     True 2022-03-18 07:43:03  EUR 2022-03-18    1.989187"
      ]
     },
     "execution_count": 24,
     "metadata": {},
     "output_type": "execute_result"
    }
   ],
   "source": [
    "df_api = pd.read_json(json_txt)\n",
    "df_api.head()"
   ]
  },
  {
   "cell_type": "markdown",
   "id": "e2e39b25",
   "metadata": {},
   "source": [
    "Drop unnescessary columns"
   ]
  },
  {
   "cell_type": "code",
   "execution_count": 26,
   "id": "d069bf31",
   "metadata": {},
   "outputs": [
    {
     "data": {
      "text/html": [
       "<div>\n",
       "<style scoped>\n",
       "    .dataframe tbody tr th:only-of-type {\n",
       "        vertical-align: middle;\n",
       "    }\n",
       "\n",
       "    .dataframe tbody tr th {\n",
       "        vertical-align: top;\n",
       "    }\n",
       "\n",
       "    .dataframe thead th {\n",
       "        text-align: right;\n",
       "    }\n",
       "</style>\n",
       "<table border=\"1\" class=\"dataframe\">\n",
       "  <thead>\n",
       "    <tr style=\"text-align: right;\">\n",
       "      <th></th>\n",
       "      <th>rates</th>\n",
       "    </tr>\n",
       "  </thead>\n",
       "  <tbody>\n",
       "    <tr>\n",
       "      <th>AED</th>\n",
       "      <td>4.067407</td>\n",
       "    </tr>\n",
       "    <tr>\n",
       "      <th>AFN</th>\n",
       "      <td>97.343947</td>\n",
       "    </tr>\n",
       "    <tr>\n",
       "      <th>ALL</th>\n",
       "      <td>122.733840</td>\n",
       "    </tr>\n",
       "    <tr>\n",
       "      <th>AMD</th>\n",
       "      <td>539.710864</td>\n",
       "    </tr>\n",
       "    <tr>\n",
       "      <th>ANG</th>\n",
       "      <td>1.989187</td>\n",
       "    </tr>\n",
       "    <tr>\n",
       "      <th>AOA</th>\n",
       "      <td>504.426886</td>\n",
       "    </tr>\n",
       "    <tr>\n",
       "      <th>ARS</th>\n",
       "      <td>121.285823</td>\n",
       "    </tr>\n",
       "    <tr>\n",
       "      <th>AUD</th>\n",
       "      <td>1.498158</td>\n",
       "    </tr>\n",
       "    <tr>\n",
       "      <th>AWG</th>\n",
       "      <td>1.993545</td>\n",
       "    </tr>\n",
       "    <tr>\n",
       "      <th>AZN</th>\n",
       "      <td>1.887476</td>\n",
       "    </tr>\n",
       "  </tbody>\n",
       "</table>\n",
       "</div>"
      ],
      "text/plain": [
       "          rates\n",
       "AED    4.067407\n",
       "AFN   97.343947\n",
       "ALL  122.733840\n",
       "AMD  539.710864\n",
       "ANG    1.989187\n",
       "AOA  504.426886\n",
       "ARS  121.285823\n",
       "AUD    1.498158\n",
       "AWG    1.993545\n",
       "AZN    1.887476"
      ]
     },
     "execution_count": 26,
     "metadata": {},
     "output_type": "execute_result"
    }
   ],
   "source": [
    "df_api = df_api[[\"rates\"]][0:10]\n",
    "df_api"
   ]
  },
  {
   "cell_type": "markdown",
   "id": "4f465022",
   "metadata": {},
   "source": [
    "## 3.Load the Data"
   ]
  },
  {
   "cell_type": "code",
   "execution_count": 28,
   "id": "bc758980",
   "metadata": {},
   "outputs": [],
   "source": [
    "df_api.to_csv(\"./final_csv/exchange_rates_1.csv\")"
   ]
  },
  {
   "cell_type": "code",
   "execution_count": null,
   "id": "df1a38da",
   "metadata": {},
   "outputs": [],
   "source": []
  }
 ],
 "metadata": {
  "kernelspec": {
   "display_name": "Python 3 (ipykernel)",
   "language": "python",
   "name": "python3"
  },
  "language_info": {
   "codemirror_mode": {
    "name": "ipython",
    "version": 3
   },
   "file_extension": ".py",
   "mimetype": "text/x-python",
   "name": "python",
   "nbconvert_exporter": "python",
   "pygments_lexer": "ipython3",
   "version": "3.9.7"
  }
 },
 "nbformat": 4,
 "nbformat_minor": 5
}
