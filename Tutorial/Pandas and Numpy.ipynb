{
 "cells": [
  {
   "cell_type": "markdown",
   "id": "e7c43019",
   "metadata": {},
   "source": [
    "# Pandas in Python"
   ]
  },
  {
   "cell_type": "code",
   "execution_count": 8,
   "id": "95b62643",
   "metadata": {},
   "outputs": [],
   "source": [
    "#import pandas\n",
    "import pandas as pd\n",
    "\n",
    "#IO tools (text, csv,...)\n",
    "#loading the data into pandas\n",
    "df= pd.read_csv('pokemon_data.csv')\n"
   ]
  },
  {
   "cell_type": "code",
   "execution_count": 19,
   "id": "ade336d5",
   "metadata": {},
   "outputs": [],
   "source": [
    "# view the number of rows\n",
    "\n",
    "# print(\"5 rows:\", df.head(5))\n",
    "# print(\"the last row:\", df.tail(1))\n"
   ]
  },
  {
   "cell_type": "code",
   "execution_count": 20,
   "id": "feb2dd40",
   "metadata": {},
   "outputs": [
    {
     "name": "stdout",
     "output_type": "stream",
     "text": [
      "Index(['#', 'Name', 'Type 1', 'Type 2', 'HP', 'Attack', 'Defense', 'Sp. Atk',\n",
      "       'Sp. Def', 'Speed', 'Generation', 'Legendary'],\n",
      "      dtype='object')\n",
      "        Name Type 1\n",
      "0  Bulbasaur  Grass\n",
      "1    Ivysaur  Grass\n"
     ]
    }
   ],
   "source": [
    "## Reading Headers\n",
    "print(df.columns)\n",
    "\n",
    "## Read each column\n",
    "## read the 5 columns name\n",
    "print(df[['Name', 'Type 1']][0:2])\n",
    "\n",
    "## Read each row\n",
    "print(df.head(1))\n"
   ]
  },
  {
   "cell_type": "code",
   "execution_count": null,
   "id": "c5cb0164",
   "metadata": {},
   "outputs": [],
   "source": []
  }
 ],
 "metadata": {
  "kernelspec": {
   "display_name": "Python 3 (ipykernel)",
   "language": "python",
   "name": "python3"
  },
  "language_info": {
   "codemirror_mode": {
    "name": "ipython",
    "version": 3
   },
   "file_extension": ".py",
   "mimetype": "text/x-python",
   "name": "python",
   "nbconvert_exporter": "python",
   "pygments_lexer": "ipython3",
   "version": "3.9.7"
  }
 },
 "nbformat": 4,
 "nbformat_minor": 5
}
