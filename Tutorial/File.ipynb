{
 "cells": [
  {
   "cell_type": "markdown",
   "id": "35c23eca",
   "metadata": {},
   "source": [
    "# File tutorial"
   ]
  },
  {
   "cell_type": "markdown",
   "id": "1ba9505f",
   "metadata": {},
   "source": [
    "## 1. Open and close file"
   ]
  },
  {
   "cell_type": "code",
   "execution_count": 4,
   "id": "bd25f888",
   "metadata": {},
   "outputs": [
    {
     "name": "stdout",
     "output_type": "stream",
     "text": [
      "test.txt\n",
      "Hello from Python \n",
      "Nice to meet u !\n",
      "\n"
     ]
    }
   ],
   "source": [
    "#open and close file with context manager\n",
    "with open('test.txt', 'r') as f:\n",
    "    # show the file name\n",
    "    print(f.name)\n",
    "    \n",
    "    # read the file\n",
    "    print(f.read())"
   ]
  },
  {
   "cell_type": "markdown",
   "id": "92beede8",
   "metadata": {},
   "source": [
    "## 2. Read file"
   ]
  },
  {
   "cell_type": "code",
   "execution_count": 10,
   "id": "b9fb2755",
   "metadata": {},
   "outputs": [
    {
     "name": "stdout",
     "output_type": "stream",
     "text": [
      "['Hello from Python \\n', 'Nice to meet u !']\n"
     ]
    }
   ],
   "source": [
    "file = open('test.txt','r')\n",
    "\n",
    "# read one line (first line) => next line if call again\n",
    "# print(file.readline())\n",
    "\n",
    "#read all lines\n",
    "print(file.readlines())\n",
    "file.close()"
   ]
  },
  {
   "cell_type": "markdown",
   "id": "5438b12e",
   "metadata": {},
   "source": [
    "#### Use loops to read file\n"
   ]
  },
  {
   "cell_type": "code",
   "execution_count": 12,
   "id": "84c161dd",
   "metadata": {},
   "outputs": [
    {
     "name": "stdout",
     "output_type": "stream",
     "text": [
      "Hello from Python \n",
      "Nice to meet u !"
     ]
    }
   ],
   "source": [
    "with open('test.txt', 'r') as f:\n",
    "    for line in f:\n",
    "        print(line, end='')"
   ]
  },
  {
   "cell_type": "markdown",
   "id": "16100699",
   "metadata": {},
   "source": [
    "## 3. Write file"
   ]
  },
  {
   "cell_type": "code",
   "execution_count": 14,
   "id": "007044dc",
   "metadata": {},
   "outputs": [],
   "source": [
    "with open('test2.txt', 'w') as f:\n",
    "    # if file exist write will overerwite all the content\n",
    "    # want to append text change 'w' -> 'a'\n",
    "    \n",
    "    f.write(\"Test file\")\n",
    "    "
   ]
  }
 ],
 "metadata": {
  "kernelspec": {
   "display_name": "Python 3 (ipykernel)",
   "language": "python",
   "name": "python3"
  },
  "language_info": {
   "codemirror_mode": {
    "name": "ipython",
    "version": 3
   },
   "file_extension": ".py",
   "mimetype": "text/x-python",
   "name": "python",
   "nbconvert_exporter": "python",
   "pygments_lexer": "ipython3",
   "version": "3.9.7"
  }
 },
 "nbformat": 4,
 "nbformat_minor": 5
}
