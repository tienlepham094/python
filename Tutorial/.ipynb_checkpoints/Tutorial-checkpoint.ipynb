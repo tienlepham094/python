{
 "cells": [
  {
   "cell_type": "markdown",
   "id": "df580d39",
   "metadata": {},
   "source": [
    "# List\n",
    "- mutable object\n"
   ]
  },
  {
   "cell_type": "code",
   "execution_count": null,
   "id": "7a87e60e",
   "metadata": {},
   "outputs": [],
   "source": [
    "print(\"hello\")"
   ]
  },
  {
   "cell_type": "markdown",
   "id": "cd3f0d17",
   "metadata": {},
   "source": [
    " 1. Creating list"
   ]
  },
  {
   "cell_type": "code",
   "execution_count": 18,
   "id": "fcc4984d",
   "metadata": {},
   "outputs": [
    {
     "name": "stdout",
     "output_type": "stream",
     "text": [
      "5\n",
      "<class 'list'>\n"
     ]
    }
   ],
   "source": [
    "#creating a list\n",
    "list = [1,2,3,4,5]\n",
    "\n",
    "# size of the list\n",
    "print(len(list))\n",
    "print(type(list))\n"
   ]
  },
  {
   "cell_type": "markdown",
   "id": "8ca88422",
   "metadata": {},
   "source": [
    " 2. Append & insert"
   ]
  },
  {
   "cell_type": "code",
   "execution_count": 3,
   "id": "53494fb3",
   "metadata": {},
   "outputs": [
    {
     "name": "stdout",
     "output_type": "stream",
     "text": [
      "[1, 2, 3, 4, 5, 0, 0]\n",
      "[1, 7, 2, 3, 4, 5, 0, 0]\n"
     ]
    }
   ],
   "source": [
    "# adding elements to a list\n",
    "list.append(0)\n",
    "print(list)\n",
    "\n",
    "# insert(position, value)\n",
    "list.insert(1,7)\n",
    "print(list)"
   ]
  },
  {
   "cell_type": "markdown",
   "id": "9924e02b",
   "metadata": {},
   "source": [
    " 3. Add and Slicing"
   ]
  },
  {
   "cell_type": "code",
   "execution_count": 6,
   "id": "b6350b94",
   "metadata": {},
   "outputs": [
    {
     "name": "stdout",
     "output_type": "stream",
     "text": [
      "[7, 2, 3]\n"
     ]
    }
   ],
   "source": [
    "# add multiple elements in a list at the end\n",
    "list.extend([10,9])\n",
    "\n",
    "# slicing\n",
    "# [a:b] a<= index <b\n",
    "print(list[1:4])\n"
   ]
  },
  {
   "cell_type": "markdown",
   "id": "c4c0f101",
   "metadata": {},
   "source": [
    "4. Other methods"
   ]
  },
  {
   "cell_type": "code",
   "execution_count": 15,
   "id": "8606b883",
   "metadata": {},
   "outputs": [
    {
     "name": "stdout",
     "output_type": "stream",
     "text": [
      "[1, 2, 3, 4, 5, 7, 9, 9, 9]\n",
      "số 9 xuất hiện : 3\n"
     ]
    }
   ],
   "source": [
    "# other methods\n",
    "max(list)\n",
    "min(list)\n",
    "list.sort()\n",
    "\n",
    "# remove one element in list\n",
    "# list.remove(10)\n",
    "print(list)\n",
    "\n",
    "#count appearance of element\n",
    "print(\"số 9 xuất hiện :\",list.count(9))\n",
    "\n",
    "# remove all the elemet in list\n",
    "# list.clear()"
   ]
  },
  {
   "cell_type": "markdown",
   "id": "030930c6",
   "metadata": {},
   "source": [
    "# Tuple\n",
    "- immutable object, cannot be changed, can not be added"
   ]
  },
  {
   "cell_type": "markdown",
   "id": "313f393b",
   "metadata": {},
   "source": [
    "1. Creating tuple"
   ]
  },
  {
   "cell_type": "code",
   "execution_count": null,
   "id": "7e1f1c2b",
   "metadata": {},
   "outputs": [],
   "source": [
    "# creating empy tuple\n",
    "empty_tuple = ()"
   ]
  },
  {
   "cell_type": "code",
   "execution_count": 19,
   "id": "cd5eda20",
   "metadata": {},
   "outputs": [
    {
     "name": "stdout",
     "output_type": "stream",
     "text": [
      "('Hello', 'World')\n",
      "<class 'tuple'>\n",
      "((0, 1, 2, 3), ['Hello'], 'world')\n"
     ]
    }
   ],
   "source": [
    "# type of tuple\n",
    "tuple1 = ('Hello', 'World')\n",
    "print(tuple1)\n",
    "print(type(tuple1))\n",
    "\n",
    "# nesting of tuples\n",
    "tuple2=((0,1,2,3), ['Hello'], 'world')\n",
    "print(tuple2)"
   ]
  },
  {
   "cell_type": "markdown",
   "id": "911afbbc",
   "metadata": {},
   "source": [
    "2. Slicing in tuples"
   ]
  },
  {
   "cell_type": "code",
   "execution_count": 23,
   "id": "e371e8dc",
   "metadata": {},
   "outputs": [
    {
     "name": "stdout",
     "output_type": "stream",
     "text": [
      "(1, 2, 3)\n",
      "(0, 1)\n",
      "(0, 1, 2, 3)\n"
     ]
    }
   ],
   "source": [
    "tuple3=(0,1,2,3)\n",
    "# print index 1 to the last element\n",
    "print(tuple3[1:])\n",
    "\n",
    "# print index 0 to index 1\n",
    "print(tuple3[:2])\n",
    "\n",
    "# print the first to the last\n",
    "print(tuple3[:])\n",
    "\n",
    "# print the first to the last with the step of i\n",
    "# tuple3[::i]"
   ]
  },
  {
   "cell_type": "markdown",
   "id": "bed4789a",
   "metadata": {},
   "source": [
    " 3. Delete"
   ]
  },
  {
   "cell_type": "code",
   "execution_count": null,
   "id": "0d9007b0",
   "metadata": {},
   "outputs": [],
   "source": [
    "del tuple1"
   ]
  },
  {
   "cell_type": "markdown",
   "id": "3b308a20",
   "metadata": {},
   "source": [
    "# Dictionary\n",
    "- with have key-value"
   ]
  },
  {
   "cell_type": "markdown",
   "id": "3813590c",
   "metadata": {},
   "source": [
    " 1. Create dictionary"
   ]
  },
  {
   "cell_type": "code",
   "execution_count": 32,
   "id": "1fb22c86",
   "metadata": {},
   "outputs": [
    {
     "name": "stdout",
     "output_type": "stream",
     "text": [
      "{'name': 'hello', 1: 'aloo'}\n",
      "{'name': {'age': 18, 1: 'one'}, 1: 'allo'}\n"
     ]
    }
   ],
   "source": [
    "dict ={\n",
    "    \"name\": \"hello\",\n",
    "    1: \"aloo\"\n",
    "}\n",
    "print(dict)\n",
    "\n",
    "# nested dict\n",
    "nest_dict ={\n",
    "    \"name\":{\n",
    "        \"age\": 18,\n",
    "        1: \"one\"\n",
    "    },\n",
    "    1: \"allo\"\n",
    "}\n",
    "print(nest_dict)"
   ]
  },
  {
   "cell_type": "markdown",
   "id": "1e41e9a1",
   "metadata": {},
   "source": [
    "2. Access elements from Dictionary"
   ]
  },
  {
   "cell_type": "code",
   "execution_count": 35,
   "id": "94d19ea5",
   "metadata": {},
   "outputs": [
    {
     "name": "stdout",
     "output_type": "stream",
     "text": [
      "hello\n",
      "hello\n",
      "18\n"
     ]
    }
   ],
   "source": [
    "# get the value of key\n",
    "print(dict['name'])\n",
    "print(dict.get('name'))\n",
    "\n",
    "# get the value of nested dict\n",
    "print(nest_dict['name']['age'])"
   ]
  },
  {
   "cell_type": "markdown",
   "id": "1d9fa0d7",
   "metadata": {},
   "source": [
    "3. Change values"
   ]
  },
  {
   "cell_type": "code",
   "execution_count": 40,
   "id": "38f7d7e8",
   "metadata": {},
   "outputs": [
    {
     "name": "stdout",
     "output_type": "stream",
     "text": [
      "{'name': 'Hello', 1: 'aloo'}\n",
      "{'name': 'ko', 1: 'aloo'}\n"
     ]
    }
   ],
   "source": [
    "dict['name'] ='Hello'\n",
    "print(dict)\n",
    "\n",
    "dict.update({\"name\": \"ko\"})\n",
    "print(dict)"
   ]
  },
  {
   "cell_type": "markdown",
   "id": "0a300b15",
   "metadata": {},
   "source": [
    " 4. Add items"
   ]
  },
  {
   "cell_type": "code",
   "execution_count": 43,
   "id": "2431849a",
   "metadata": {},
   "outputs": [
    {
     "name": "stdout",
     "output_type": "stream",
     "text": [
      "{'name': 'ko', 1: 'aloo', 'age': 20, 'color': 'red'}\n",
      "{'name': 'ko', 1: 'aloo', 'age': 20, 'color': 'red'}\n"
     ]
    }
   ],
   "source": [
    "dict['age'] = 20\n",
    "print(dict)\n",
    "\n",
    "dict.update({\"color\": \"red\"})\n",
    "print(dict)"
   ]
  },
  {
   "cell_type": "markdown",
   "id": "d5c3c577",
   "metadata": {},
   "source": [
    "5. Remove item"
   ]
  },
  {
   "cell_type": "code",
   "execution_count": null,
   "id": "5a8f2395",
   "metadata": {},
   "outputs": [],
   "source": [
    "# remove specified with key name\n",
    "# dict.pop(\"keyname\")\n",
    "# del dic[\"keyname\"]\n",
    "\n",
    "\n",
    "# remove the last key\n",
    "# dict.popitem()"
   ]
  },
  {
   "cell_type": "markdown",
   "id": "4c91d438",
   "metadata": {},
   "source": [
    " 6. Other methods"
   ]
  },
  {
   "cell_type": "code",
   "execution_count": 44,
   "id": "2d79f4fa",
   "metadata": {},
   "outputs": [
    {
     "name": "stdout",
     "output_type": "stream",
     "text": [
      "dict_keys(['name', 1, 'age', 'color'])\n",
      "{'name': 'ko', 1: 'aloo', 'age': 20, 'color': 'red'}\n"
     ]
    }
   ],
   "source": [
    "# print all keys\n",
    "print(dict.keys())\n",
    "\n",
    "# copy dict\n",
    "copy_dict = dict.copy()\n",
    "print(copy_dict)\n"
   ]
  },
  {
   "cell_type": "markdown",
   "id": "96554ecb",
   "metadata": {},
   "source": [
    "# Sets\n",
    "- store multiple items in a single variable\n",
    "- unordered (cannot be reffered by index or key)\n",
    "- unchangeable\n",
    "- do not aloww duplicate values"
   ]
  },
  {
   "cell_type": "markdown",
   "id": "50fe63f5",
   "metadata": {},
   "source": [
    "1. Creating sets"
   ]
  },
  {
   "cell_type": "code",
   "execution_count": null,
   "id": "2d07dcd3",
   "metadata": {},
   "outputs": [],
   "source": [
    "sets_list ={\"apple\", \"banana\", \"cherry\"}"
   ]
  },
  {
   "cell_type": "markdown",
   "id": "3204ed36",
   "metadata": {},
   "source": [
    "2. Access"
   ]
  },
  {
   "cell_type": "code",
   "execution_count": 49,
   "id": "7cc33b79",
   "metadata": {},
   "outputs": [
    {
     "name": "stdout",
     "output_type": "stream",
     "text": [
      "True\n",
      "banana\n",
      "apple\n",
      "cherry\n"
     ]
    }
   ],
   "source": [
    "\n",
    "print(\"banana\" in sets_list)\n",
    "\n",
    "for x in sets_list:\n",
    "    print(x)"
   ]
  },
  {
   "cell_type": "markdown",
   "id": "159d4391",
   "metadata": {},
   "source": [
    "3. Add items"
   ]
  },
  {
   "cell_type": "code",
   "execution_count": 53,
   "id": "6943218b",
   "metadata": {},
   "outputs": [
    {
     "name": "stdout",
     "output_type": "stream",
     "text": [
      "{1, '1', 'apple', 'banana', 'orange', 'cherry'}\n"
     ]
    }
   ],
   "source": [
    "sets_list.add(\"orange\")\n",
    "print(sets_list)"
   ]
  },
  {
   "cell_type": "markdown",
   "id": "e8eb271a",
   "metadata": {},
   "source": [
    "4. Remove item"
   ]
  },
  {
   "cell_type": "code",
   "execution_count": 56,
   "id": "dd77620e",
   "metadata": {},
   "outputs": [
    {
     "name": "stdout",
     "output_type": "stream",
     "text": [
      "{'1', 'apple', 'banana', 'orange', 'cherry'}\n",
      "{'apple', 'banana', 'orange', 'cherry'}\n"
     ]
    }
   ],
   "source": [
    "# sets_list.remove(1)\n",
    "print(sets_list)\n",
    "\n",
    "sets_list.discard(\"1\")\n",
    "print(sets_list)"
   ]
  },
  {
   "cell_type": "code",
   "execution_count": null,
   "id": "68c1d675",
   "metadata": {},
   "outputs": [],
   "source": []
  }
 ],
 "metadata": {
  "kernelspec": {
   "display_name": "Python 3 (ipykernel)",
   "language": "python",
   "name": "python3"
  },
  "language_info": {
   "codemirror_mode": {
    "name": "ipython",
    "version": 3
   },
   "file_extension": ".py",
   "mimetype": "text/x-python",
   "name": "python",
   "nbconvert_exporter": "python",
   "pygments_lexer": "ipython3",
   "version": "3.9.7"
  }
 },
 "nbformat": 4,
 "nbformat_minor": 5
}
