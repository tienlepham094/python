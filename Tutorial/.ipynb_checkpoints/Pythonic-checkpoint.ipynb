{
 "cells": [
  {
   "cell_type": "markdown",
   "id": "a8f24cc4",
   "metadata": {},
   "source": [
    "# Pythonic"
   ]
  },
  {
   "cell_type": "markdown",
   "id": "50f6c10a",
   "metadata": {},
   "source": [
    "### Building with built-ins"
   ]
  },
  {
   "cell_type": "code",
   "execution_count": 14,
   "id": "3728f2ba",
   "metadata": {},
   "outputs": [
    {
     "name": "stdout",
     "output_type": "stream",
     "text": [
      "[5, 4, 3]\n"
     ]
    }
   ],
   "source": [
    "num =[-1,-2,5,4,3]\n",
    "\n",
    "# for loop\n",
    "\n",
    "pos =[]\n",
    "for num in num:\n",
    "    if num>0:\n",
    "        pos.append(num)\n",
    "print(pos)"
   ]
  },
  {
   "cell_type": "code",
   "execution_count": 19,
   "id": "5567d326",
   "metadata": {},
   "outputs": [
    {
     "name": "stdout",
     "output_type": "stream",
     "text": [
      "[1.5, 2.3, 3.4, 4.6]\n"
     ]
    }
   ],
   "source": [
    "# list comprehension\n",
    "pos_1 =[item for item in nums if item > 0]\n",
    "print(pos_1)"
   ]
  },
  {
   "cell_type": "markdown",
   "id": "2668ee2a",
   "metadata": {},
   "source": [
    "#### range()"
   ]
  },
  {
   "cell_type": "code",
   "execution_count": 1,
   "id": "ee3a0129",
   "metadata": {},
   "outputs": [
    {
     "name": "stdout",
     "output_type": "stream",
     "text": [
      "[0, 1, 2, 3, 4, 5, 6, 7, 8, 9, 10]\n"
     ]
    }
   ],
   "source": [
    "# range(start, stop)\n",
    "nums = range(0,11)\n",
    "nums_list = list(nums)\n",
    "print(nums_list)"
   ]
  },
  {
   "cell_type": "code",
   "execution_count": null,
   "id": "15533a13",
   "metadata": {},
   "outputs": [],
   "source": [
    "# range(stop)"
   ]
  },
  {
   "cell_type": "code",
   "execution_count": 2,
   "id": "d15dc9c2",
   "metadata": {},
   "outputs": [
    {
     "name": "stdout",
     "output_type": "stream",
     "text": [
      "[2, 4, 6, 8, 10]\n"
     ]
    }
   ],
   "source": [
    "# range with a step value\n",
    "even_nums = range(2,11,2)\n",
    "\n",
    "even_nums_list= list(even_nums)\n",
    "print(even_nums_list)"
   ]
  },
  {
   "cell_type": "markdown",
   "id": "ba1ce1da",
   "metadata": {},
   "source": [
    "#### enumerate"
   ]
  },
  {
   "cell_type": "code",
   "execution_count": 5,
   "id": "d37402ff",
   "metadata": {},
   "outputs": [
    {
     "name": "stdout",
     "output_type": "stream",
     "text": [
      "<enumerate object at 0x000001D3EF120800>\n",
      "[(0, 'a'), (1, 'b'), (2, 'c')]\n"
     ]
    }
   ],
   "source": [
    "# create an indexed list of objects\n",
    "letter=['a', 'b', 'c']\n",
    "\n",
    "indexed_letters = enumerate(letter)\n",
    "print(indexed_letters)\n",
    "print(list(indexed_letters))"
   ]
  },
  {
   "cell_type": "markdown",
   "id": "36424f36",
   "metadata": {},
   "source": [
    "#### map()"
   ]
  },
  {
   "cell_type": "code",
   "execution_count": 6,
   "id": "98aab262",
   "metadata": {},
   "outputs": [
    {
     "name": "stdout",
     "output_type": "stream",
     "text": [
      "[2, 2, 3, 5]\n"
     ]
    }
   ],
   "source": [
    "# applies a function over an object\n",
    "# map(function, iterables)\n",
    "\n",
    "nums =[1.5,2.3,3.4,4.6]\n",
    "\n",
    "rnd_nums = map(round, nums)\n",
    "\n",
    "print(list(rnd_nums))"
   ]
  },
  {
   "cell_type": "markdown",
   "id": "f712b0bb",
   "metadata": {},
   "source": [
    "#### map with lambda function"
   ]
  },
  {
   "cell_type": "code",
   "execution_count": 8,
   "id": "d36158dd",
   "metadata": {},
   "outputs": [
    {
     "name": "stdout",
     "output_type": "stream",
     "text": [
      "[3.0, 4.6, 6.8, 9.2]\n"
     ]
    }
   ],
   "source": [
    "sqrd_nums = map(lambda x: x*2, nums)\n",
    "\n",
    "print(list(sqrd_nums))"
   ]
  },
  {
   "cell_type": "markdown",
   "id": "e6c1ec76",
   "metadata": {},
   "source": [
    " *arg & **kwargs"
   ]
  },
  {
   "cell_type": "code",
   "execution_count": null,
   "id": "e08b490a",
   "metadata": {},
   "outputs": [],
   "source": [
    "# *arg: pass many arguments, unpack list, tuple,...\n",
    "# ** kwarge: pass agruments with key-value"
   ]
  },
  {
   "cell_type": "code",
   "execution_count": 9,
   "id": "73cca84e",
   "metadata": {},
   "outputs": [
    {
     "name": "stdout",
     "output_type": "stream",
     "text": [
      "1.5 2.3 3.4 4.6\n"
     ]
    }
   ],
   "source": [
    "print(*nums)"
   ]
  },
  {
   "cell_type": "code",
   "execution_count": null,
   "id": "7e0b9f10",
   "metadata": {},
   "outputs": [],
   "source": []
  }
 ],
 "metadata": {
  "kernelspec": {
   "display_name": "Python 3 (ipykernel)",
   "language": "python",
   "name": "python3"
  },
  "language_info": {
   "codemirror_mode": {
    "name": "ipython",
    "version": 3
   },
   "file_extension": ".py",
   "mimetype": "text/x-python",
   "name": "python",
   "nbconvert_exporter": "python",
   "pygments_lexer": "ipython3",
   "version": "3.9.7"
  }
 },
 "nbformat": 4,
 "nbformat_minor": 5
}
