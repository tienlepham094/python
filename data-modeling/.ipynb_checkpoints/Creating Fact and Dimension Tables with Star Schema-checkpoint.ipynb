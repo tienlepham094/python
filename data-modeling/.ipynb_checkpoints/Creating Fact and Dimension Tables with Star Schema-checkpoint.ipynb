{
 "cells": [
  {
   "cell_type": "code",
   "execution_count": 1,
   "id": "7cb1474e",
   "metadata": {},
   "outputs": [],
   "source": [
    "import psycopg2"
   ]
  },
  {
   "cell_type": "code",
   "execution_count": 2,
   "id": "a5d5eb64",
   "metadata": {},
   "outputs": [],
   "source": [
    "try: \n",
    "    conn = psycopg2.connect(dbname= \"mytable\", user= \"postgres\", password=\"123456\")\n",
    "except psycopg2.Error as e:\n",
    "    print(e)"
   ]
  },
  {
   "cell_type": "code",
   "execution_count": 5,
   "id": "4d97d8e9",
   "metadata": {},
   "outputs": [],
   "source": [
    "try:\n",
    "    cur = conn.cursor()\n",
    "except psycopg2.Error as e:\n",
    "    print(e)\n",
    "conn.set_session(autocommit=True)"
   ]
  },
  {
   "cell_type": "code",
   "execution_count": null,
   "id": "07e5da24",
   "metadata": {},
   "outputs": [],
   "source": [
    "# table name: customer_transactions\n",
    "# column 0: customer id\n",
    "#column 1: store id\n",
    "#column 2: spent\n",
    "\n",
    "# table name: customer\n",
    "# c0: customer id\n",
    "# c1: name\n",
    "# c2: rewards\n",
    "\n",
    "# table name: store\n",
    "# c0: store id\n",
    "# c1: state\n",
    "\n",
    "# table name: items_purchased\n",
    "# c0: customer id\n",
    "# c1: item name"
   ]
  },
  {
   "cell_type": "markdown",
   "id": "7ceb9082",
   "metadata": {},
   "source": [
    "###  Creating table"
   ]
  },
  {
   "cell_type": "markdown",
   "id": "2a65c116",
   "metadata": {},
   "source": [
    "#### Fact table"
   ]
  },
  {
   "cell_type": "code",
   "execution_count": 6,
   "id": "31ce7bf7",
   "metadata": {},
   "outputs": [],
   "source": [
    "try:\n",
    "    cur.execute('''\n",
    "        CREATE TABLE IF NOT EXISTS customer_transactions(\n",
    "            customer_id INTEGER,\n",
    "            store_id INTEGER,\n",
    "            spent NUMERIC\n",
    "        )\n",
    "    ''')\n",
    "except psycopg2.Error as e:\n",
    "    print(e)\n",
    "\n",
    "# insert values\n",
    "try:\n",
    "    cur.execute('''\n",
    "        INSERT INTO customer_transactions(customer_id, store_id, spent)\n",
    "        VALUES \n",
    "        (1, 1, 20.50),\n",
    "        (2, 1, 35.21)\n",
    "    ''')\n",
    "except psycopg2.Error as e:\n",
    "    print(e)"
   ]
  },
  {
   "cell_type": "markdown",
   "id": "3e402a5b",
   "metadata": {},
   "source": [
    "#### Dimension table"
   ]
  },
  {
   "cell_type": "code",
   "execution_count": 20,
   "id": "953a3330",
   "metadata": {},
   "outputs": [],
   "source": [
    "try:\n",
    "    cur.execute('''\n",
    "        CREATE TABLE IF NOT EXISTS customer_1(\n",
    "            customer_id INTEGER PRIMARY KEY,\n",
    "            name VARCHAR(50),\n",
    "            rewards BOOLEAN\n",
    "        )\n",
    "    ''')\n",
    "except psycopg2.Error as e:\n",
    "    print(e)\n",
    "\n",
    "# insert values\n",
    "try:\n",
    "    cur.execute('''\n",
    "        INSERT INTO customer_1(customer_id, name, rewards)\n",
    "        VALUES\n",
    "        (1, 'Amanda', True),\n",
    "        (2, 'Toby', False)\n",
    "    ''')\n",
    "except psycopg2.Error as e:\n",
    "    print(e)"
   ]
  },
  {
   "cell_type": "code",
   "execution_count": 11,
   "id": "bf65eeec",
   "metadata": {},
   "outputs": [],
   "source": [
    "try:\n",
    "    cur.execute('''\n",
    "        CREATE TABLE IF NOT EXISTS store(\n",
    "            store_id INTEGER PRIMARY KEY,\n",
    "            state VARCHAR(25)\n",
    "        )\n",
    "    ''')\n",
    "except psycopg2.Error as e:\n",
    "    print(e)\n",
    "\n",
    "# insert\n",
    "try:\n",
    "    cur.execute('''\n",
    "        INSERT INTO store(store_id, state)\n",
    "        VALUES \n",
    "        (1,'CA'),\n",
    "        (2, 'WA')\n",
    "    ''')\n",
    "except psycopg2.Error as e:\n",
    "    print(e)\n"
   ]
  },
  {
   "cell_type": "code",
   "execution_count": 14,
   "id": "81e41e63",
   "metadata": {},
   "outputs": [],
   "source": [
    "try:\n",
    "    cur.execute('''\n",
    "        CREATE TABLE items_purchased(\n",
    "            customer_id INTEGER PRIMARY KEY,\n",
    "            item_number INTEGER,\n",
    "            item_name VARCHAR(50)\n",
    "        )\n",
    "    ''')\n",
    "except psycopg2.Error as e:\n",
    "    print(e)\n",
    "    \n",
    "#insert\n",
    "try:\n",
    "    cur.execute('''\n",
    "        INSERT INTO items_purchased(customer_id, item_number, item_name)\n",
    "        VALUES\n",
    "        (1, 1, 'Rubber Soul'),\n",
    "        (2, 3, 'Let it be')\n",
    "    ''')\n",
    "except psycopg2.Error as e:\n",
    "    print(e)"
   ]
  },
  {
   "cell_type": "markdown",
   "id": "07754be2",
   "metadata": {},
   "source": [
    "### Show table"
   ]
  },
  {
   "cell_type": "code",
   "execution_count": 21,
   "id": "24e256d7",
   "metadata": {},
   "outputs": [
    {
     "name": "stdout",
     "output_type": "stream",
     "text": [
      "Customer-transactions: \n",
      "(1, 1, Decimal('20.50'))\n",
      "(2, 1, Decimal('35.21'))\n",
      "\n",
      "Customer: \n",
      "(1, 'Amanda', True)\n",
      "(2, 'Toby', False)\n",
      "\n",
      "Store: \n",
      "(1, 'CA')\n",
      "(2, 'WA')\n",
      "\n",
      "Item: \n",
      "(1, 1, 'Rubber Soul')\n",
      "(2, 3, 'Let it be')\n"
     ]
    }
   ],
   "source": [
    "try:\n",
    "    cur.execute('SELECT * FROM customer_transactions')\n",
    "except psycopg2.Error as e:\n",
    "    print(e)\n",
    "print('Customer-transactions: ')\n",
    "for i in cur.fetchall():\n",
    "    print(i)\n",
    "\n",
    "try:\n",
    "    cur.execute('SELECT * FROM customer_1')\n",
    "except psycopg2.Error as e:\n",
    "    print(e)\n",
    "print('\\nCustomer: ')\n",
    "for i in cur.fetchall():\n",
    "    print(i)\n",
    "\n",
    "try:\n",
    "    cur.execute('SELECT * FROM store')\n",
    "except psycopg2.Error as e:\n",
    "    print(e)\n",
    "print('\\nStore: ')\n",
    "for i in cur.fetchall():\n",
    "    print(i)\n",
    "    \n",
    "try:\n",
    "    cur.execute('SELECT * FROM items_purchased')\n",
    "except psycopg2.Error as e:\n",
    "    print(e)\n",
    "print('\\nItem: ')\n",
    "for i in cur.fetchall():\n",
    "    print(i)"
   ]
  },
  {
   "cell_type": "markdown",
   "id": "c46358f0",
   "metadata": {},
   "source": [
    "#### Find all the customers that spent more than 30 dollars, who are they, which store they bought it from, location of the store, what they bought and if they are a rewards member."
   ]
  },
  {
   "cell_type": "code",
   "execution_count": 27,
   "id": "8b2de55a",
   "metadata": {},
   "outputs": [
    {
     "name": "stdout",
     "output_type": "stream",
     "text": [
      "(2, 'Toby', False, 1, 'CA', 'Let it be')\n"
     ]
    }
   ],
   "source": [
    "try:\n",
    "    cur.execute('''\n",
    "        SELECT customer_1.customer_id ,customer_1.name, customer_1.rewards,store.store_id,\n",
    "        store.state, items_purchased.item_name \n",
    "        FROM customer_transactions\n",
    "        INNER JOIN store\n",
    "        ON store.store_id = customer_transactions.store_id\n",
    "        INNER JOIN customer_1\n",
    "        ON customer_1.customer_id = customer_transactions.customer_id\n",
    "        INNER JOIN items_purchased\n",
    "        ON items_purchased.customer_id = customer_transactions.customer_id\n",
    "        WHERE customer_transactions.spent > 30\n",
    "    ''')\n",
    "except psycopg2.Error as e:\n",
    "    print(e)\n",
    "\n",
    "for i in cur.fetchall():\n",
    "    print(i)"
   ]
  },
  {
   "cell_type": "markdown",
   "id": "cade22bd",
   "metadata": {},
   "source": [
    "#### Query 2: How much did Customer 2 spend?"
   ]
  },
  {
   "cell_type": "code",
   "execution_count": 28,
   "id": "301f2882",
   "metadata": {},
   "outputs": [
    {
     "name": "stdout",
     "output_type": "stream",
     "text": [
      "('Toby', Decimal('35.21'))\n"
     ]
    }
   ],
   "source": [
    "try:\n",
    "    cur.execute('''\n",
    "        SELECT customer_1.name , customer_transactions.spent FROM customer_1\n",
    "        INNER JOIN customer_transactions\n",
    "        ON customer_transactions.customer_id = customer_1.customer_id\n",
    "        WHERE customer_1.customer_id = 2\n",
    "    ''')\n",
    "except psycopg2.Error as e:\n",
    "    print(e)\n",
    "\n",
    "for i in cur.fetchall():\n",
    "    print(i)"
   ]
  },
  {
   "cell_type": "markdown",
   "id": "f4f3a73b",
   "metadata": {},
   "source": [
    "### Close connection"
   ]
  },
  {
   "cell_type": "code",
   "execution_count": 29,
   "id": "592818a7",
   "metadata": {},
   "outputs": [],
   "source": [
    "cur.close()\n",
    "conn.close()"
   ]
  }
 ],
 "metadata": {
  "kernelspec": {
   "display_name": "Python 3 (ipykernel)",
   "language": "python",
   "name": "python3"
  },
  "language_info": {
   "codemirror_mode": {
    "name": "ipython",
    "version": 3
   },
   "file_extension": ".py",
   "mimetype": "text/x-python",
   "name": "python",
   "nbconvert_exporter": "python",
   "pygments_lexer": "ipython3",
   "version": "3.9.7"
  }
 },
 "nbformat": 4,
 "nbformat_minor": 5
}
