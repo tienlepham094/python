{
 "cells": [
  {
   "cell_type": "code",
   "execution_count": 1,
   "id": "b0178f52",
   "metadata": {},
   "outputs": [],
   "source": [
    "import psycopg2"
   ]
  },
  {
   "cell_type": "code",
   "execution_count": 2,
   "id": "d40b9fd1",
   "metadata": {},
   "outputs": [],
   "source": [
    "try:\n",
    "    conn = psycopg2.connect(dbname = \"mytable\", user=\"postgres\", password=\"123456\")\n",
    "    conn.set_session(autocommit=True)\n",
    "except psycopg2.Error as e:\n",
    "    print(e)"
   ]
  },
  {
   "cell_type": "code",
   "execution_count": 6,
   "id": "2dc4ba04",
   "metadata": {},
   "outputs": [],
   "source": [
    "try:\n",
    "    cur= conn.cursor()\n",
    "except psycopg2.Error as e:\n",
    "    print(e)"
   ]
  },
  {
   "cell_type": "markdown",
   "id": "e5f330bb",
   "metadata": {},
   "source": [
    "### Creating table"
   ]
  },
  {
   "cell_type": "code",
   "execution_count": 7,
   "id": "6484f1f4",
   "metadata": {},
   "outputs": [],
   "source": [
    "# create table sales\n",
    "# column 0: transaction id\n",
    "# column 1: amount spent"
   ]
  },
  {
   "cell_type": "code",
   "execution_count": 11,
   "id": "19d9148e",
   "metadata": {},
   "outputs": [],
   "source": [
    "try:\n",
    "    cur.execute('''\n",
    "        CREATE TABLE IF NOT EXISTS sales(\n",
    "            transaction_id INTEGER PRIMARY KEY,\n",
    "            amount INTEGER\n",
    "        )\n",
    "    ''')\n",
    "except psycopg2.Error as e:\n",
    "    print(e)"
   ]
  },
  {
   "cell_type": "markdown",
   "id": "b3a58aec",
   "metadata": {},
   "source": [
    "### Insert values"
   ]
  },
  {
   "cell_type": "code",
   "execution_count": 12,
   "id": "925633b6",
   "metadata": {},
   "outputs": [],
   "source": [
    "try:\n",
    "    cur.execute('''\n",
    "        INSERT INTO sales(transaction_id, amount)\n",
    "        VALUES\n",
    "        (1, 49),\n",
    "        (2,19),\n",
    "        (3,45)\n",
    "    ''')\n",
    "except psycopg2.Error as e:\n",
    "    print(e)"
   ]
  },
  {
   "cell_type": "markdown",
   "id": "d3ad8869",
   "metadata": {},
   "source": [
    "### Show table"
   ]
  },
  {
   "cell_type": "code",
   "execution_count": 17,
   "id": "b685cd77",
   "metadata": {},
   "outputs": [
    {
     "name": "stdout",
     "output_type": "stream",
     "text": [
      "Transaction table\n",
      "(1, 'Amanda', 1, 2000)\n",
      "(2, 'Toby', 1, 2000)\n",
      "(3, 'Max', 2, 2018)\n",
      "\n",
      "Album Sold table\n",
      "(1, 1, 'Rubber Soul')\n",
      "(2, 1, 'Let it Be')\n",
      "(3, 2, 'My Generation')\n",
      "(4, 3, 'Meet the Beatles')\n",
      "(5, 3, 'Help!')\n",
      "\n",
      "Cashier table\n",
      "(1, 'Sam')\n",
      "(2, 'Bob')\n",
      "\n",
      "Sales table\n",
      "(1, 49)\n",
      "(2, 19)\n",
      "(3, 45)\n"
     ]
    }
   ],
   "source": [
    "try:\n",
    "    cur.execute('SELECT * FROM transactions_2')\n",
    "except psycopg2.Error as e:\n",
    "    print(e)\n",
    "print(\"Transaction table\")\n",
    "for i in cur.fetchall():\n",
    "    print(i)\n",
    "    \n",
    "    \n",
    "try:\n",
    "    cur.execute('SELECT * FROM album_sold')\n",
    "except psycopg2.Error as e:\n",
    "    print(e)\n",
    "print(\"\\nAlbum Sold table\")\n",
    "for i in cur.fetchall():\n",
    "    print(i)\n",
    "    \n",
    "    \n",
    "try:\n",
    "    cur.execute('SELECT * FROM cashier')\n",
    "except psycopg2.Error as e:\n",
    "    print(e)\n",
    "print(\"\\nCashier table\")\n",
    "for i in cur.fetchall():\n",
    "    print(i)\n",
    "    \n",
    "    \n",
    "try:\n",
    "    cur.execute('SELECT * FROM sales')\n",
    "except psycopg2.Error as e:\n",
    "    print(e)\n",
    "print(\"\\nSales table\")\n",
    "for i in cur.fetchall():\n",
    "    print(i)"
   ]
  },
  {
   "cell_type": "markdown",
   "id": "e17ec090",
   "metadata": {},
   "source": [
    "### Denormalized"
   ]
  },
  {
   "cell_type": "code",
   "execution_count": 22,
   "id": "ce79829f",
   "metadata": {},
   "outputs": [
    {
     "name": "stdout",
     "output_type": "stream",
     "text": [
      "duplicate key value violates unique constraint \"transactions_3_pkey\"\n",
      "DETAIL:  Key (transaction_id)=(1) already exists.\n",
      "\n",
      "(1, 'Amanda', 1, 2000, 49)\n",
      "(2, 'Toby', 1, 2000, 19)\n",
      "(3, 'Max', 2, 2018, 45)\n"
     ]
    }
   ],
   "source": [
    "# create new table transaction\n",
    "try:\n",
    "    cur.execute('''\n",
    "        CREATE TABLE IF NOT EXISTS transactions_3(\n",
    "            transaction_id INTEGER PRIMARY KEY,\n",
    "            customer_name VARCHAR(50),\n",
    "            cashier_id INTEGER,\n",
    "            year INTEGER,\n",
    "            amount_spent INTEGER\n",
    "        )\n",
    "    ''')\n",
    "except psycopg2.Error as e:\n",
    "    print(e)\n",
    "\n",
    "# insert values\n",
    "try: \n",
    "    cur.execute('''\n",
    "        INSERT INTO transactions_3(transaction_id, customer_name, cashier_id, year, amount_spent)\n",
    "        VALUES\n",
    "        (1, 'Amanda',1,2000,49),\n",
    "        (2, 'Toby', 1, 2000, 19),\n",
    "        (3, 'Max', 2, 2018, 45)\n",
    "    ''')\n",
    "except psycopg2.Error as e:\n",
    "    print(e)\n",
    "\n",
    "    \n",
    "# show table\n",
    "try:\n",
    "    cur.execute('SELECT * FROM transactions_3')\n",
    "except psycopg2.Error as e:\n",
    "    print(e)\n",
    "\n",
    "for i in cur.fetchall():\n",
    "    print(i)"
   ]
  },
  {
   "cell_type": "markdown",
   "id": "75eeec30",
   "metadata": {},
   "source": [
    "### Creating cashier_sales"
   ]
  },
  {
   "cell_type": "code",
   "execution_count": 32,
   "id": "3e7ac66a",
   "metadata": {},
   "outputs": [
    {
     "name": "stdout",
     "output_type": "stream",
     "text": [
      "duplicate key value violates unique constraint \"cashier_sales_pkey\"\n",
      "DETAIL:  Key (transaction_id)=(1) already exists.\n",
      "\n",
      "(1, 'Sam', 1, 40)\n",
      "(2, 'Sam', 1, 19)\n",
      "(3, 'Max', 2, 45)\n"
     ]
    }
   ],
   "source": [
    "# create table\n",
    "try:\n",
    "    cur.execute('''\n",
    "        CREATE TABLE IF NOT EXISTS cashier_sales(\n",
    "        transaction_id INTEGER PRIMARY KEY,\n",
    "        cashier_name VARCHAR(50),\n",
    "        cashier_id INTEGER,\n",
    "        amount_spent INTEGER\n",
    "        )\n",
    "    ''')\n",
    "except psycopg2.Error as e:\n",
    "    print(e)\n",
    "\n",
    "#insert values\n",
    "try:\n",
    "    cur.execute('''\n",
    "        INSERT INTO cashier_sales(transaction_id, cashier_name,cashier_id, amount_spent)\n",
    "        VALUES\n",
    "        (1, 'Sam', 1, 40),\n",
    "        (2, 'Sam', 1, 19),\n",
    "        (3, 'Max', 2, 45);\n",
    "    ''')\n",
    "except psycopg2.Error as e:\n",
    "    print(e)\n",
    "\n",
    "# show table\n",
    "try:\n",
    "    cur.execute(\"SELECT * FROM cashier_sales\")\n",
    "except psycopg2.Error as e:\n",
    "    print(e)\n",
    "\n",
    "for i in cur.fetchall():\n",
    "    print(i)"
   ]
  },
  {
   "cell_type": "code",
   "execution_count": 36,
   "id": "e44905be",
   "metadata": {},
   "outputs": [
    {
     "name": "stdout",
     "output_type": "stream",
     "text": [
      "('Max', 45)\n",
      "('Sam', 59)\n"
     ]
    }
   ],
   "source": [
    "try:\n",
    "    cur.execute('SELECT cashier_name, SUM(amount_spent) FROM cashier_sales GROUP BY cashier_name')\n",
    "except psycopg2.Error as e:\n",
    "    print(e)\n",
    "\n",
    "for i in cur.fetchall():\n",
    "    print(i)"
   ]
  },
  {
   "cell_type": "code",
   "execution_count": null,
   "id": "c845c8a4",
   "metadata": {},
   "outputs": [],
   "source": []
  }
 ],
 "metadata": {
  "kernelspec": {
   "display_name": "Python 3 (ipykernel)",
   "language": "python",
   "name": "python3"
  },
  "language_info": {
   "codemirror_mode": {
    "name": "ipython",
    "version": 3
   },
   "file_extension": ".py",
   "mimetype": "text/x-python",
   "name": "python",
   "nbconvert_exporter": "python",
   "pygments_lexer": "ipython3",
   "version": "3.9.7"
  }
 },
 "nbformat": 4,
 "nbformat_minor": 5
}
