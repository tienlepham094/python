{
 "cells": [
  {
   "cell_type": "markdown",
   "id": "92c09e6a",
   "metadata": {},
   "source": [
    "### Import library"
   ]
  },
  {
   "cell_type": "code",
   "execution_count": 42,
   "id": "6d1fd741",
   "metadata": {},
   "outputs": [
    {
     "name": "stdout",
     "output_type": "stream",
     "text": [
      "Requirement already satisfied: psycopg2 in c:\\users\\admin\\anaconda3\\lib\\site-packages (2.9.3)\n"
     ]
    }
   ],
   "source": [
    "!pip install psycopg2\n",
    "import psycopg2 "
   ]
  },
  {
   "cell_type": "markdown",
   "id": "fdbf58f1",
   "metadata": {},
   "source": [
    "### Create a connection to the database"
   ]
  },
  {
   "cell_type": "code",
   "execution_count": 43,
   "id": "00d537ac",
   "metadata": {},
   "outputs": [
    {
     "name": "stdout",
     "output_type": "stream",
     "text": [
      "Connected\n"
     ]
    }
   ],
   "source": [
    "database = \"dvdrental\"\n",
    "password = \"123456\"\n",
    "username = \"postgres\"\n",
    "try:\n",
    "    conn = psycopg2.connect(dbname = database, user= username,\n",
    "                           password = password)\n",
    "    print(\"Connected\")\n",
    "except psycopg2.Error as e:\n",
    "    print(\"Error: Could not make connection to the Postgresql\")\n",
    "    "
   ]
  },
  {
   "cell_type": "markdown",
   "id": "c6687287",
   "metadata": {},
   "source": [
    "### Get cursor"
   ]
  },
  {
   "cell_type": "code",
   "execution_count": 44,
   "id": "971838e9",
   "metadata": {},
   "outputs": [],
   "source": [
    "try:\n",
    "    cur = conn.cursor()\n",
    "except psycopg2.Error as e:\n",
    "    print(e)"
   ]
  },
  {
   "cell_type": "markdown",
   "id": "b384f74d",
   "metadata": {},
   "source": [
    "### Set automatic commit to be true "
   ]
  },
  {
   "cell_type": "code",
   "execution_count": 45,
   "id": "0f374dcc",
   "metadata": {},
   "outputs": [],
   "source": [
    "conn.set_session(autocommit = True)"
   ]
  },
  {
   "cell_type": "code",
   "execution_count": 47,
   "id": "841ae4fe",
   "metadata": {},
   "outputs": [
    {
     "name": "stdout",
     "output_type": "stream",
     "text": [
      "(1, 'Penelope', 'Guiness', datetime.datetime(2013, 5, 26, 14, 47, 57, 620000))\n",
      "(2, 'Nick', 'Wahlberg', datetime.datetime(2013, 5, 26, 14, 47, 57, 620000))\n",
      "(3, 'Ed', 'Chase', datetime.datetime(2013, 5, 26, 14, 47, 57, 620000))\n",
      "(4, 'Jennifer', 'Davis', datetime.datetime(2013, 5, 26, 14, 47, 57, 620000))\n",
      "(5, 'Johnny', 'Lollobrigida', datetime.datetime(2013, 5, 26, 14, 47, 57, 620000))\n",
      "(6, 'Bette', 'Nicholson', datetime.datetime(2013, 5, 26, 14, 47, 57, 620000))\n",
      "(7, 'Grace', 'Mostel', datetime.datetime(2013, 5, 26, 14, 47, 57, 620000))\n",
      "(8, 'Matthew', 'Johansson', datetime.datetime(2013, 5, 26, 14, 47, 57, 620000))\n",
      "(9, 'Joe', 'Swank', datetime.datetime(2013, 5, 26, 14, 47, 57, 620000))\n",
      "(10, 'Christian', 'Gable', datetime.datetime(2013, 5, 26, 14, 47, 57, 620000))\n"
     ]
    }
   ],
   "source": [
    "try:\n",
    "    cur.execute(\"SELECT * FROM actor \")\n",
    "    for i in cur.fetchmany(10):\n",
    "        print(i)\n",
    "except psycopg2.Error as e:\n",
    "    print(e)"
   ]
  },
  {
   "cell_type": "markdown",
   "id": "f8912832",
   "metadata": {},
   "source": [
    "### Insert value into table"
   ]
  },
  {
   "cell_type": "code",
   "execution_count": null,
   "id": "24f67d30",
   "metadata": {},
   "outputs": [],
   "source": [
    "try:\n",
    "    cur.execute('''\n",
    "    INSERT INTO songs(song_ttile, artist_name,....)\n",
    "    VALUES (%s, %s, s%s, ....)\n",
    "    ''',(\"gone\", \"rose\"))"
   ]
  },
  {
   "cell_type": "markdown",
   "id": "d6516fb2",
   "metadata": {},
   "source": [
    "### Close your cursor and connection"
   ]
  },
  {
   "cell_type": "code",
   "execution_count": 48,
   "id": "22ca8db6",
   "metadata": {},
   "outputs": [
    {
     "data": {
      "text/plain": [
       "<function connection.close>"
      ]
     },
     "execution_count": 48,
     "metadata": {},
     "output_type": "execute_result"
    }
   ],
   "source": [
    "cur.close()\n",
    "conn.close"
   ]
  },
  {
   "cell_type": "code",
   "execution_count": null,
   "id": "538e8dce",
   "metadata": {},
   "outputs": [],
   "source": []
  }
 ],
 "metadata": {
  "kernelspec": {
   "display_name": "Python 3 (ipykernel)",
   "language": "python",
   "name": "python3"
  },
  "language_info": {
   "codemirror_mode": {
    "name": "ipython",
    "version": 3
   },
   "file_extension": ".py",
   "mimetype": "text/x-python",
   "name": "python",
   "nbconvert_exporter": "python",
   "pygments_lexer": "ipython3",
   "version": "3.9.7"
  }
 },
 "nbformat": 4,
 "nbformat_minor": 5
}
