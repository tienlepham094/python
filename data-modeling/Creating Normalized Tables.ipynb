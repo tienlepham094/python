{
 "cells": [
  {
   "cell_type": "markdown",
   "id": "161294d5",
   "metadata": {},
   "source": [
    "### Import library"
   ]
  },
  {
   "cell_type": "code",
   "execution_count": 66,
   "id": "4cf8c7dc",
   "metadata": {},
   "outputs": [
    {
     "name": "stdout",
     "output_type": "stream",
     "text": [
      "Requirement already satisfied: psycopg2 in c:\\users\\tien le pham\\anaconda3\\lib\\site-packages (2.9.3)\n"
     ]
    }
   ],
   "source": [
    "!pip install psycopg2\n",
    "import psycopg2"
   ]
  },
  {
   "cell_type": "markdown",
   "id": "1d5d0bac",
   "metadata": {},
   "source": [
    "### Creating connection"
   ]
  },
  {
   "cell_type": "code",
   "execution_count": 67,
   "id": "772393a1",
   "metadata": {},
   "outputs": [],
   "source": [
    "try:\n",
    "    conn = psycopg2.connect(dbname=\"mytable\", user=\"postgres\", password = \"123456\")\n",
    "except psycopg2.Error as e:\n",
    "    print(e)"
   ]
  },
  {
   "cell_type": "markdown",
   "id": "cec296b9",
   "metadata": {},
   "source": [
    "### Create cursor"
   ]
  },
  {
   "cell_type": "code",
   "execution_count": 68,
   "id": "a8ac335c",
   "metadata": {},
   "outputs": [],
   "source": [
    "try:\n",
    "    cur = conn.cursor()\n",
    "except psycopg2.Error as e:\n",
    "    print(e)\n",
    "conn.set_session(autocommit=True)"
   ]
  },
  {
   "cell_type": "markdown",
   "id": "2a46a39e",
   "metadata": {},
   "source": [
    "### Creating table"
   ]
  },
  {
   "cell_type": "code",
   "execution_count": 75,
   "id": "cefac6ea",
   "metadata": {},
   "outputs": [],
   "source": [
    "try: \n",
    "    cur.execute('''\n",
    "        CREATE TABLE IF NOT EXISTS music_store(\n",
    "                transaction_id INTEGER,\n",
    "                customer_name VARCHAR(50),\n",
    "                cashier_name VARCHAR(50),\n",
    "                year INTEGER,\n",
    "                album_purchased TEXT[]\n",
    "        );\n",
    "    ''')\n",
    "except psycopg2.Error as e:\n",
    "    print(e)"
   ]
  },
  {
   "cell_type": "markdown",
   "id": "03dc8ecf",
   "metadata": {},
   "source": [
    "### Insert value to table"
   ]
  },
  {
   "cell_type": "code",
   "execution_count": 91,
   "id": "0f1feeff",
   "metadata": {},
   "outputs": [],
   "source": [
    "try:\n",
    "    cur.execute('''\n",
    "        INSERT INTO music_store(transaction_id, customer_name, cashier_name, year, album_purchased)\n",
    "        VALUES (%s, %s, %s, %s, %s)''',\n",
    "        (1, 'Amanda', 'Sam', 2000, ['Rubber Soul', 'Let it Be'])\n",
    "    )\n",
    "except psycopg2.Error as e:\n",
    "    print(e)"
   ]
  },
  {
   "cell_type": "code",
   "execution_count": 95,
   "id": "3d2a4253",
   "metadata": {},
   "outputs": [],
   "source": [
    "try:\n",
    "    cur.execute('''\n",
    "        INSERT INTO music_store(transaction_id, customer_name, cashier_name, year, album_purchased)\n",
    "        VALUES (%s, %s, %s, %s, %s)''', \n",
    "        (2, 'Toby', 'Sam', 2000, ['My Generation'])\n",
    "    )\n",
    "except psycopg2.Error as e:\n",
    "    print(e)"
   ]
  },
  {
   "cell_type": "code",
   "execution_count": 96,
   "id": "1b9ac71e",
   "metadata": {},
   "outputs": [],
   "source": [
    "try:\n",
    "    cur.execute('''\n",
    "        INSERT INTO music_store(transaction_id, customer_name, cashier_name, year, album_purchased)\n",
    "        VALUES (%s, %s, %s, %s, %s)''', \n",
    "        (3, 'Max', 'Bob', 2018, ['Meet the Beatles', 'Help!'])\n",
    "    )\n",
    "except psycopg2.Error as e:\n",
    "    print(e)"
   ]
  },
  {
   "cell_type": "markdown",
   "id": "b8240d95",
   "metadata": {},
   "source": [
    "### Moving to 1st Normal Form (1NF)"
   ]
  },
  {
   "cell_type": "markdown",
   "id": "edfbd98e",
   "metadata": {},
   "source": [
    "#### TO-DO: This data has not been normalized. To get this data into 1st normal form, you need to remove any collections or list of data and break up the list of songs into individual rows."
   ]
  },
  {
   "cell_type": "code",
   "execution_count": 104,
   "id": "ab31fd4a",
   "metadata": {},
   "outputs": [],
   "source": [
    "## TO-DO: Complete the CREATE table statements and INSERT statements\n",
    "\n",
    "try: \n",
    "    cur.execute(\"CREATE TABLE IF NOT EXISTS music_store2 (transaction_id int, customer_name varchar, cashier_name varchar,\\\n",
    "                                                            year int, albums_purchased varchar);\")\n",
    "except psycopg2.Error as e: \n",
    "    print(\"Error: Issue creating table\")\n",
    "    print (e)\n",
    "    \n",
    "try: \n",
    "    cur.execute(\"INSERT INTO music_store2 (transaction_id, customer_name, cashier_name, year, albums_purchased) \\\n",
    "                 VALUES (%s, %s, %s, %s, %s)\", \\\n",
    "                 (1, \"Amanda\", \"Sam\", 2000, 'Rubber Soul'))\n",
    "except psycopg2.Error as e: \n",
    "    print(\"Error: Inserting Rows\")\n",
    "    print (e)\n",
    "\n",
    "try: \n",
    "    cur.execute(\"INSERT INTO music_store2 (transaction_id, customer_name, cashier_name, year, albums_purchased) \\\n",
    "                 VALUES (%s, %s, %s, %s, %s)\", \\\n",
    "                 (1, \"Amanda\", \"Sam\", 2000, 'Let it Be'))\n",
    "except psycopg2.Error as e: \n",
    "    print(\"Error: Inserting Rows\")\n",
    "    print (e)\n",
    "    \n",
    "try: \n",
    "    cur.execute(\"INSERT INTO music_store2 (transaction_id, customer_name, cashier_name, year, albums_purchased) \\\n",
    "                 VALUES (%s, %s, %s, %s, %s)\", \\\n",
    "                 (2, 'Toby', 'Sam', 2000, 'My Generation'))\n",
    "except psycopg2.Error as e: \n",
    "    print(\"Error: Inserting Rows\")\n",
    "    print (e)\n",
    "    \n",
    "try: \n",
    "    cur.execute(\"INSERT INTO music_store2 (transaction_id, customer_name, cashier_name, year, albums_purchased) \\\n",
    "                 VALUES (%s, %s, %s, %s, %s)\", \\\n",
    "                 (3, 'Max', 'Bob', 2018, 'Meet the Beatles'))\n",
    "except psycopg2.Error as e: \n",
    "    print(\"Error: Inserting Rows\")\n",
    "    print (e)\n",
    "    \n",
    "try: \n",
    "    cur.execute(\"INSERT INTO music_store2 (transaction_id, customer_name, cashier_name, year, albums_purchased) \\\n",
    "                 VALUES (%s, %s, %s, %s, %s)\", \\\n",
    "                 (3, 'Max', 'Bob', 2018, 'Help!'))\n",
    "except psycopg2.Error as e: \n",
    "    print(\"Error: Inserting Rows\")\n",
    "    print (e)\n",
    "    "
   ]
  },
  {
   "cell_type": "markdown",
   "id": "d71bf552",
   "metadata": {},
   "source": [
    "### Show table"
   ]
  },
  {
   "cell_type": "code",
   "execution_count": 106,
   "id": "a924b870",
   "metadata": {},
   "outputs": [
    {
     "name": "stdout",
     "output_type": "stream",
     "text": [
      "(1, 'Amanda', 'Sam', 2000, 'Rubber Soul')\n",
      "(1, 'Amanda', 'Sam', 2000, 'Let it Be')\n",
      "(2, 'Toby', 'Sam', 2000, 'My Generation')\n",
      "(3, 'Max', 'Bob', 2018, 'Meet the Beatles')\n",
      "(3, 'Max', 'Bob', 2018, 'Help!')\n"
     ]
    }
   ],
   "source": [
    "try: \n",
    "    cur.execute(\"SELECT * FROM music_store2;\")\n",
    "except psycopg2.Error as e: \n",
    "    print(\"Error: select *\")\n",
    "    print (e)\n",
    "for i in cur.fetchall():\n",
    "    print(i)"
   ]
  },
  {
   "cell_type": "markdown",
   "id": "48fa136f",
   "metadata": {},
   "source": [
    "### Moving to 2nd Normal Form (2NF)"
   ]
  },
  {
   "cell_type": "markdown",
   "id": "6334797e",
   "metadata": {},
   "source": [
    "#### TO-DO: Break up the table into two tables, transactions and albums sold"
   ]
  },
  {
   "cell_type": "code",
   "execution_count": 112,
   "id": "5970ebe6",
   "metadata": {},
   "outputs": [],
   "source": [
    "try:\n",
    "    cur.execute('''\n",
    "        CREATE TABLE IF NOT EXISTS transactions(\n",
    "            transaction_id INTEGER PRIMARY KEY,\n",
    "            customer_name VARCHAR(50),\n",
    "            cashier_name VARCHAR(50),\n",
    "            year INTEGER\n",
    "        ) \n",
    "    ''')\n",
    "except psycopg2.Error as e:\n",
    "    print(e)"
   ]
  },
  {
   "cell_type": "code",
   "execution_count": 116,
   "id": "f7c7797d",
   "metadata": {},
   "outputs": [],
   "source": [
    "try:\n",
    "    cur.execute('''\n",
    "        CREATE TABLE IF NOT EXISTS album_sold(\n",
    "            unit_id INTEGER PRIMARY KEY,\n",
    "            transaction_id INTEGER,\n",
    "            album_purchased VARCHAR(50)\n",
    "        ) \n",
    "    ''')\n",
    "except psycopg2.Error as e:\n",
    "    print(e)"
   ]
  },
  {
   "cell_type": "markdown",
   "id": "4ab4419b",
   "metadata": {},
   "source": [
    "### Insert value to table"
   ]
  },
  {
   "cell_type": "code",
   "execution_count": 119,
   "id": "2138871d",
   "metadata": {},
   "outputs": [],
   "source": [
    "try:\n",
    "    cur.execute('''\n",
    "        INSERT INTO transactions(transaction_id, customer_name, cashier_name, year)\n",
    "        VALUES  (1, 'Amanda', 'Sam', 2000),\n",
    "                (2, 'Toby', 'Sam', 2000),\n",
    "                (3, 'Max', 'Bob', 2018);\n",
    "    ''')\n",
    "except psycopg2.Error as e:\n",
    "    print(e)"
   ]
  },
  {
   "cell_type": "code",
   "execution_count": 121,
   "id": "4a9db98a",
   "metadata": {},
   "outputs": [],
   "source": [
    "try:\n",
    "    cur.execute('''\n",
    "        INSERT INTO album_sold(unit_id, transaction_id, album_purchased)\n",
    "        VALUES (1, 1, 'Rubber Soul'),\n",
    "                (2, 1, 'Let it Be'),\n",
    "                (3, 2, 'My Generation'),\n",
    "                (4, 3,'Meet the Beatles'),\n",
    "                (5, 3,  'Help!')\n",
    "    ''')\n",
    "except psycopg2.Error as e:\n",
    "    print(e)\n"
   ]
  },
  {
   "cell_type": "markdown",
   "id": "ea22a9f4",
   "metadata": {},
   "source": [
    "### Show table"
   ]
  },
  {
   "cell_type": "code",
   "execution_count": 125,
   "id": "0aaa334f",
   "metadata": {},
   "outputs": [
    {
     "name": "stdout",
     "output_type": "stream",
     "text": [
      "Transactions table\n",
      "(1, 'Amanda', 'Sam', 2000)\n",
      "(2, 'Toby', 'Sam', 2000)\n",
      "(3, 'Max', 'Bob', 2018)\n",
      "\n",
      "Album Sold table\n",
      "(1, 1, 'Rubber Soul')\n",
      "(2, 1, 'Let it Be')\n",
      "(3, 2, 'My Generation')\n",
      "(4, 3, 'Meet the Beatles')\n",
      "(5, 3, 'Help!')\n"
     ]
    }
   ],
   "source": [
    "try:\n",
    "    cur.execute(\"SELECT * FROM transactions\")\n",
    "except psycopg2.Error as e:\n",
    "    print(e)\n",
    "    \n",
    "print('Transactions table')\n",
    "for i in cur.fetchall():\n",
    "    print(i)\n",
    "\n",
    "try:\n",
    "    cur.execute(\"SELECT * FROM album_sold\")\n",
    "except psycopg2.Error as e:\n",
    "    print(e)\n",
    "\n",
    "print(\"\\nAlbum Sold table\")\n",
    "for i in cur.fetchall():\n",
    "    print(i)"
   ]
  },
  {
   "cell_type": "markdown",
   "id": "57c76e44",
   "metadata": {},
   "source": [
    "### Join two table"
   ]
  },
  {
   "cell_type": "code",
   "execution_count": 128,
   "id": "48fb01e8",
   "metadata": {},
   "outputs": [
    {
     "name": "stdout",
     "output_type": "stream",
     "text": [
      "(1, 'Amanda', 'Sam', 2000, 1, 1, 'Rubber Soul')\n",
      "(1, 'Amanda', 'Sam', 2000, 2, 1, 'Let it Be')\n",
      "(2, 'Toby', 'Sam', 2000, 3, 2, 'My Generation')\n",
      "(3, 'Max', 'Bob', 2018, 4, 3, 'Meet the Beatles')\n",
      "(3, 'Max', 'Bob', 2018, 5, 3, 'Help!')\n"
     ]
    }
   ],
   "source": [
    "try:\n",
    "    cur.execute('''\n",
    "        SELECT * FROM transactions\n",
    "        INNER JOIN album_sold\n",
    "        ON album_sold.transaction_id = transactions.transaction_id\n",
    "    ''')\n",
    "except psycopg2.Error as e:\n",
    "    print(e)\n",
    "\n",
    "for i in cur.fetchall():\n",
    "    print(i)"
   ]
  },
  {
   "cell_type": "markdown",
   "id": "23ca975e",
   "metadata": {},
   "source": [
    "### Moving to 3rd Normal Form (3NF)"
   ]
  },
  {
   "cell_type": "markdown",
   "id": "48a58dd1",
   "metadata": {},
   "source": [
    "#### Three table: transactions2, employess, album_sold"
   ]
  },
  {
   "cell_type": "code",
   "execution_count": 138,
   "id": "c5cdb7ca",
   "metadata": {},
   "outputs": [],
   "source": [
    "try:\n",
    "    cur.execute('''\n",
    "        CREATE TABLE IF NOT EXISTS transactions_2(\n",
    "            transaction_id INTEGER PRIMARY KEY,\n",
    "            customer_name VARCHAR(50),\n",
    "            cashier_id INTEGER,\n",
    "            year INTEGER\n",
    "        )\n",
    "    ''')\n",
    "except psycopg2.Error as e:\n",
    "    print(e)"
   ]
  },
  {
   "cell_type": "code",
   "execution_count": 139,
   "id": "a4c70bd4",
   "metadata": {},
   "outputs": [],
   "source": [
    "try: \n",
    "    cur.execute('''\n",
    "        CREATE TABLE IF NOT EXISTS cashier(\n",
    "            cashier_id INTEGER PRIMARY KEY,\n",
    "            cashier_name VARCHAR(50)\n",
    "        )\n",
    "    ''')\n",
    "except psycopg2.Error as e:\n",
    "    print(e)\n"
   ]
  },
  {
   "cell_type": "markdown",
   "id": "9df8e931",
   "metadata": {},
   "source": [
    "### Insert values"
   ]
  },
  {
   "cell_type": "code",
   "execution_count": 142,
   "id": "e0d0208d",
   "metadata": {},
   "outputs": [],
   "source": [
    "try:\n",
    "    cur.execute('''\n",
    "        INSERT INTO transactions_2(transaction_id, customer_name, cashier_id, year)\n",
    "        VALUES \n",
    "        (1, 'Amanda', 1, 2000),\n",
    "        (2, 'Toby', 1, 2000),\n",
    "        (3, 'Max', 2, 2018)\n",
    "    ''')\n",
    "except psycopg2.Error as e:\n",
    "    print(e)\n",
    "\n",
    "try:\n",
    "    cur.execute('''\n",
    "        INSERT INTO cashier (cashier_id, cashier_name)\n",
    "        VALUES\n",
    "        (1, 'Sam'),\n",
    "        (2, 'Bob')\n",
    "    ''')\n",
    "except psycopg2.Error as e:\n",
    "    print(e)"
   ]
  },
  {
   "cell_type": "markdown",
   "id": "2cd8b39a",
   "metadata": {},
   "source": [
    "### Show table"
   ]
  },
  {
   "cell_type": "code",
   "execution_count": 143,
   "id": "9095f330",
   "metadata": {},
   "outputs": [
    {
     "name": "stdout",
     "output_type": "stream",
     "text": [
      "Transactions table\n",
      "(1, 'Amanda', 1, 2000)\n",
      "(2, 'Toby', 1, 2000)\n",
      "(3, 'Max', 2, 2018)\n",
      "\n",
      "Album Sold table\n",
      "(1, 1, 'Rubber Soul')\n",
      "(2, 1, 'Let it Be')\n",
      "(3, 2, 'My Generation')\n",
      "(4, 3, 'Meet the Beatles')\n",
      "(5, 3, 'Help!')\n",
      "\n",
      "Cashiertable\n",
      "(1, 'Sam')\n",
      "(2, 'Bob')\n"
     ]
    }
   ],
   "source": [
    "try:\n",
    "    cur.execute(\"SELECT * FROM transactions_2\")\n",
    "except psycopg2.Error as e:\n",
    "    print(e)\n",
    "\n",
    "print(\"Transactions table\")\n",
    "for i in cur.fetchall():\n",
    "    print(i)\n",
    "    \n",
    "try:\n",
    "    cur.execute(\"SELECT * FROM album_sold\")\n",
    "except psycopg2.Error as e:\n",
    "    print(e)\n",
    "\n",
    "print(\"\\nAlbum Sold table\")\n",
    "for i in cur.fetchall():\n",
    "    print(i)\n",
    "\n",
    "    \n",
    "try:\n",
    "    cur.execute(\"SELECT * FROM cashier\")\n",
    "except psycopg2.Error as e:\n",
    "    print(e)\n",
    "\n",
    "print(\"\\nCashiertable\")\n",
    "for i in cur.fetchall():\n",
    "    print(i)"
   ]
  },
  {
   "cell_type": "markdown",
   "id": "e95ca57f",
   "metadata": {},
   "source": [
    "### Join three tables"
   ]
  },
  {
   "cell_type": "code",
   "execution_count": 145,
   "id": "d82a922f",
   "metadata": {},
   "outputs": [
    {
     "name": "stdout",
     "output_type": "stream",
     "text": [
      "(1, 'Amanda', 1, 2000, 1, 'Sam', 1, 1, 'Rubber Soul')\n",
      "(1, 'Amanda', 1, 2000, 1, 'Sam', 2, 1, 'Let it Be')\n",
      "(2, 'Toby', 1, 2000, 1, 'Sam', 3, 2, 'My Generation')\n",
      "(3, 'Max', 2, 2018, 2, 'Bob', 4, 3, 'Meet the Beatles')\n",
      "(3, 'Max', 2, 2018, 2, 'Bob', 5, 3, 'Help!')\n"
     ]
    }
   ],
   "source": [
    "try:\n",
    "    cur.execute('''\n",
    "        SELECT * FROM transactions_2\n",
    "        INNER JOIN cashier\n",
    "        ON cashier.cashier_id = transactions_2.cashier_id\n",
    "        INNER JOIN album_sold\n",
    "        ON album_sold.transaction_id = transactions_2.transaction_id\n",
    "    ''')\n",
    "except psycopg2.Error as e:\n",
    "    print(e)\n",
    "\n",
    "for i in cur.fetchall():\n",
    "    print(i)"
   ]
  },
  {
   "cell_type": "markdown",
   "id": "91562543",
   "metadata": {},
   "source": [
    "### Finally close"
   ]
  },
  {
   "cell_type": "code",
   "execution_count": 146,
   "id": "4b684a06",
   "metadata": {},
   "outputs": [],
   "source": [
    "cur.close()\n",
    "conn.close()"
   ]
  }
 ],
 "metadata": {
  "kernelspec": {
   "display_name": "Python 3 (ipykernel)",
   "language": "python",
   "name": "python3"
  },
  "language_info": {
   "codemirror_mode": {
    "name": "ipython",
    "version": 3
   },
   "file_extension": ".py",
   "mimetype": "text/x-python",
   "name": "python",
   "nbconvert_exporter": "python",
   "pygments_lexer": "ipython3",
   "version": "3.9.7"
  }
 },
 "nbformat": 4,
 "nbformat_minor": 5
}
