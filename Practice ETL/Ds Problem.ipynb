{
 "cells": [
  {
   "cell_type": "markdown",
   "id": "b0a46492",
   "metadata": {},
   "source": [
    "# Task #1: Get info Box (store in Python dictionary)"
   ]
  },
  {
   "cell_type": "markdown",
   "id": "175fdf4e",
   "metadata": {},
   "source": [
    "### Import Necessary Libraries"
   ]
  },
  {
   "cell_type": "code",
   "execution_count": 21,
   "id": "f29c7d7e",
   "metadata": {},
   "outputs": [],
   "source": [
    "from bs4 import BeautifulSoup as bs\n",
    "import requests\n",
    "import pandas as pd"
   ]
  },
  {
   "cell_type": "markdown",
   "id": "debef2e2",
   "metadata": {},
   "source": [
    "### Load the webpage"
   ]
  },
  {
   "cell_type": "code",
   "execution_count": 22,
   "id": "8050b5d9",
   "metadata": {},
   "outputs": [],
   "source": [
    "r = requests.get(\"https://en.wikipedia.org/wiki/Toy_Story_3\")\n",
    "\n",
    "# Convert to a beautiful soup object\n",
    "soup = bs(r.text)\n",
    "\n",
    "# Print out the HTML\n",
    "contents = soup.prettify()\n",
    "# print(contents)"
   ]
  },
  {
   "cell_type": "code",
   "execution_count": 23,
   "id": "5906b184",
   "metadata": {},
   "outputs": [],
   "source": [
    "info_box = soup.find(\"table\", {\"class\": \"infobox vevent\"})\n",
    "info_rows = info_box.findAll(\"tr\")"
   ]
  },
  {
   "cell_type": "code",
   "execution_count": 26,
   "id": "902b1e1c",
   "metadata": {},
   "outputs": [
    {
     "data": {
      "text/plain": [
       "{'title': 'Toy Story 3',\n",
       " 'Directed by': 'Lee Unkrich',\n",
       " 'Screenplay by': 'Michael Arndt',\n",
       " 'Story by': ['John Lasseter', 'Andrew Stanton', 'Lee Unkrich'],\n",
       " 'Produced by': 'Darla K. Anderson',\n",
       " 'Starring': ['Tom Hanks',\n",
       "  'Tim Allen',\n",
       "  'Joan Cusack',\n",
       "  'Don Rickles',\n",
       "  'Wallace Shawn',\n",
       "  'John Ratzenberger',\n",
       "  'Estelle Harris',\n",
       "  'Ned Beatty',\n",
       "  'Michael Keaton',\n",
       "  'Jodi Benson',\n",
       "  'John Morris'],\n",
       " 'Cinematography': ['Jeremy Lasky', 'Kim White'],\n",
       " 'Edited by': 'Ken Schretzmann',\n",
       " 'Music by': 'Randy Newman',\n",
       " 'Productioncompanies': ['Walt Disney Pictures', 'Pixar Animation Studios'],\n",
       " 'Distributed by': 'Walt Disney StudiosMotion Pictures',\n",
       " 'Release dates': ['June\\xa012,\\xa02010\\xa0(2010-06-12) (Taormina Film Fest)',\n",
       "  'June\\xa018,\\xa02010\\xa0(2010-06-18) (United States)'],\n",
       " 'Running time': '103 minutes[1]',\n",
       " 'Country': 'United States',\n",
       " 'Language': 'English',\n",
       " 'Budget': '$200\\xa0million[1]',\n",
       " 'Box office': '$1.067\\xa0billion[1]'}"
      ]
     },
     "execution_count": 26,
     "metadata": {},
     "output_type": "execute_result"
    }
   ],
   "source": [
    "movie_info = {}\n",
    "\n",
    "# function to transform data into array\n",
    "def get_content_value(row_data):\n",
    "    if row_data.find(\"li\"):\n",
    "        array=[]\n",
    "        for li in row_data.find_all(\"li\"):\n",
    "            array.append(li.text)\n",
    "        return array\n",
    "    else:\n",
    "        return row_data.text.strip()\n",
    "        \n",
    "# apeend to dictionary\n",
    "for index, row in enumerate(info_rows):\n",
    "    if index == 0:\n",
    "        movie_info['title'] = row.find(\"th\").text\n",
    "    elif index ==1:\n",
    "        continue\n",
    "    else:\n",
    "        content_key = row.find(\"th\").text.strip()\n",
    "        content_value = get_content_value(row.find(\"td\"))\n",
    "        movie_info[content_key] = content_value\n",
    "\n",
    "movie_info"
   ]
  },
  {
   "cell_type": "markdown",
   "id": "885e344e",
   "metadata": {},
   "source": [
    "# Task #2: movies in List of Disney Films"
   ]
  },
  {
   "cell_type": "code",
   "execution_count": null,
   "id": "a943cde0",
   "metadata": {},
   "outputs": [],
   "source": []
  }
 ],
 "metadata": {
  "kernelspec": {
   "display_name": "Python 3 (ipykernel)",
   "language": "python",
   "name": "python3"
  },
  "language_info": {
   "codemirror_mode": {
    "name": "ipython",
    "version": 3
   },
   "file_extension": ".py",
   "mimetype": "text/x-python",
   "name": "python",
   "nbconvert_exporter": "python",
   "pygments_lexer": "ipython3",
   "version": "3.9.7"
  }
 },
 "nbformat": 4,
 "nbformat_minor": 5
}
