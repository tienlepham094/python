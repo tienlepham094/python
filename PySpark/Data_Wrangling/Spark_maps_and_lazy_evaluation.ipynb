{
 "cells": [
  {
   "cell_type": "markdown",
   "id": "3b34d316",
   "metadata": {},
   "source": [
    "# Maps"
   ]
  },
  {
   "cell_type": "markdown",
   "id": "9a6fa38c",
   "metadata": {},
   "source": [
    "In Spark, maps take data as input and then transform that data\n",
    "with whatever function you put in the map. They are like directions for the data\n",
    "telling how each input should get to the output\n"
   ]
  },
  {
   "cell_type": "markdown",
   "id": "969e7c40",
   "metadata": {},
   "source": [
    "The first code cell creates a SparkContext. With the SparkContext,\n",
    "you can input dataset and parallelize the data across a cluster\n",
    "(since you are curently using Spark in local mode on a single machine,\n",
    "technically the dataset isn't distributed yet)"
   ]
  },
  {
   "cell_type": "markdown",
   "id": "5dd92e19",
   "metadata": {},
   "source": [
    "Run the code cell below to instantiate a SparkContext object\n",
    "and then read in the log_of_songs list into Spark"
   ]
  },
  {
   "cell_type": "code",
   "execution_count": 7,
   "id": "faecf26f",
   "metadata": {},
   "outputs": [
    {
     "data": {
      "text/plain": [
       "'D:/Spark/spark-3.2.1-bin-hadoop3.2'"
      ]
     },
     "execution_count": 7,
     "metadata": {},
     "output_type": "execute_result"
    }
   ],
   "source": [
    "# !pip install findspark\n",
    "import findspark\n",
    "findspark.init('D:/Spark/spark-3.2.1-bin-hadoop3.2')\n",
    "import pyspark\n",
    "findspark.find()"
   ]
  },
  {
   "cell_type": "code",
   "execution_count": 10,
   "id": "517eafc7",
   "metadata": {},
   "outputs": [],
   "source": [
    "sc = pyspark.SparkContext.getOrCreate()\n",
    "\n",
    "log_of_songs=[\n",
    "    \"Despacito\",\n",
    "    \"Nice for what\",\n",
    "    \"No tears left to cry\",\n",
    "    \"Despacito\",\n",
    "    \"Havana\",\n",
    "    \"In my feelings\",\n",
    "    \"Nice for what\",\n",
    "    \"despacito\",\n",
    "    \"All the stars\"\n",
    "]\n",
    "\n",
    "# parallelize the log_of_songs to use with Spark\n",
    "distributed_song_log = sc.parallelize(log_of_songs)\n"
   ]
  },
  {
   "cell_type": "markdown",
   "id": "66a2e5a0",
   "metadata": {},
   "source": [
    "This next code cell defines a function that converts a song title to lowercase\n",
    ". Then there is an example converting the word \"Havana\" to \"havana\""
   ]
  },
  {
   "cell_type": "code",
   "execution_count": 12,
   "id": "60c92b35",
   "metadata": {},
   "outputs": [
    {
     "data": {
      "text/plain": [
       "'havana'"
      ]
     },
     "execution_count": 12,
     "metadata": {},
     "output_type": "execute_result"
    }
   ],
   "source": [
    "def convert_song_to_lowercase(song):\n",
    "    return song.lower()\n",
    "\n",
    "convert_song_to_lowercase(\"Havana\")"
   ]
  },
  {
   "cell_type": "markdown",
   "id": "a03e1212",
   "metadata": {},
   "source": [
    "The following code celss demonstrate how to apply this function using map step.\n",
    "The map step will go through each song in the list and apply the conver_to_song_to_lowercase()\n",
    "function"
   ]
  },
  {
   "cell_type": "code",
   "execution_count": 14,
   "id": "86bef20a",
   "metadata": {},
   "outputs": [
    {
     "data": {
      "text/plain": [
       "['despacito',\n",
       " 'nice for what',\n",
       " 'no tears left to cry',\n",
       " 'despacito',\n",
       " 'havana',\n",
       " 'in my feelings',\n",
       " 'nice for what',\n",
       " 'despacito',\n",
       " 'all the stars']"
      ]
     },
     "execution_count": 14,
     "metadata": {},
     "output_type": "execute_result"
    }
   ],
   "source": [
    "distributed_song_log.map(convert_song_to_lowercase).collect()"
   ]
  },
  {
   "cell_type": "markdown",
   "id": "cddc801a",
   "metadata": {},
   "source": [
    "Note as well that Spark is not changing the original data set. Spark is merely making a copy\n",
    ". You can see this by running collect() on the orginal dataset"
   ]
  },
  {
   "cell_type": "code",
   "execution_count": 16,
   "id": "65b98d12",
   "metadata": {},
   "outputs": [
    {
     "data": {
      "text/plain": [
       "['Despacito',\n",
       " 'Nice for what',\n",
       " 'No tears left to cry',\n",
       " 'Despacito',\n",
       " 'Havana',\n",
       " 'In my feelings',\n",
       " 'Nice for what',\n",
       " 'despacito',\n",
       " 'All the stars']"
      ]
     },
     "execution_count": 16,
     "metadata": {},
     "output_type": "execute_result"
    }
   ],
   "source": [
    "distributed_song_log.collect()"
   ]
  },
  {
   "cell_type": "code",
   "execution_count": 17,
   "id": "249ea7b1",
   "metadata": {},
   "outputs": [
    {
     "data": {
      "text/plain": [
       "['despacito',\n",
       " 'nice for what',\n",
       " 'no tears left to cry',\n",
       " 'despacito',\n",
       " 'havana',\n",
       " 'in my feelings',\n",
       " 'nice for what',\n",
       " 'despacito',\n",
       " 'all the stars']"
      ]
     },
     "execution_count": 17,
     "metadata": {},
     "output_type": "execute_result"
    }
   ],
   "source": [
    "distributed_song_log.map(lambda song: song.lower()).collect()"
   ]
  },
  {
   "cell_type": "code",
   "execution_count": null,
   "id": "4b6dc77a",
   "metadata": {},
   "outputs": [],
   "source": []
  }
 ],
 "metadata": {
  "kernelspec": {
   "display_name": "Python 3 (ipykernel)",
   "language": "python",
   "name": "python3"
  },
  "language_info": {
   "codemirror_mode": {
    "name": "ipython",
    "version": 3
   },
   "file_extension": ".py",
   "mimetype": "text/x-python",
   "name": "python",
   "nbconvert_exporter": "python",
   "pygments_lexer": "ipython3",
   "version": "3.9.7"
  }
 },
 "nbformat": 4,
 "nbformat_minor": 5
}
