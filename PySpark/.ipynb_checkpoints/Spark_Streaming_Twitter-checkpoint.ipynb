{
 "cells": [
  {
   "cell_type": "code",
   "execution_count": null,
   "id": "dc6dc2e2",
   "metadata": {},
   "outputs": [],
   "source": [
    "# !pip install tweepy\n",
    "import tweepy \n",
    "from tweepy import OAuthHandler, Stream"
   ]
  },
  {
   "cell_type": "code",
   "execution_count": null,
   "id": "5758bb13",
   "metadata": {},
   "outputs": [],
   "source": [
    "from tweepy.streaming import Stream\n",
    "import socket\n",
    "import json"
   ]
  },
  {
   "cell_type": "code",
   "execution_count": null,
   "id": "e5d8841f",
   "metadata": {},
   "outputs": [],
   "source": [
    "consumer_key=''\n",
    "consumer_secret= ''\n",
    "access_token = ''\n",
    "access_secret = ''"
   ]
  },
  {
   "cell_type": "code",
   "execution_count": null,
   "id": "28277115",
   "metadata": {},
   "outputs": [],
   "source": [
    "class TweetListener(Stream):\n",
    "    def __init__(self, csocket):\n",
    "        self.clien_socket = csocket\n",
    "    def on_data (self, data):\n",
    "        try:\n",
    "            msg = json.loads(data)\n",
    "            print(msg['text'].encode('utf-8'))\n",
    "            self.client_socker.send(msg['text'].encode('utf-8'))\n",
    "            return true\n",
    "        except BaseException as e:\n",
    "            print(\"Error\",e)\n",
    "        return true\n",
    "    def on_error(self, statu):\n",
    "        print(status)\n",
    "        return True\n",
    "    "
   ]
  },
  {
   "cell_type": "code",
   "execution_count": null,
   "id": "d09be111",
   "metadata": {},
   "outputs": [],
   "source": [
    "def sendData(c_socket):\n",
    "    auth = OAuthHandler(consumer_key, consumer_secret)\n",
    "    auth.set_access_token(access_toke, access_secret)\n",
    "    \n",
    "    twitter_stream = Stream(auth, TweetListenner(c_socket))\n",
    "    twitter_stream.filter(trach[''])"
   ]
  },
  {
   "cell_type": "code",
   "execution_count": null,
   "id": "65a901ad",
   "metadata": {},
   "outputs": [],
   "source": [
    "if __name__ == '__main__':\n",
    "    s = socket.socket()\n",
    "    host = '127.0.0.1'\n",
    "    port = 5555\n",
    "    s.bind((host, port))\n",
    "    \n",
    "    print('Listen on port')\n",
    "    s.listen()"
   ]
  },
  {
   "cell_type": "markdown",
   "id": "0c0449b7",
   "metadata": {},
   "source": [
    "# Using spark"
   ]
  },
  {
   "cell_type": "code",
   "execution_count": 13,
   "id": "ee617d0b",
   "metadata": {},
   "outputs": [],
   "source": [
    "import findspark\n",
    "findspark.init()\n",
    "import pyspark"
   ]
  },
  {
   "cell_type": "code",
   "execution_count": 14,
   "id": "ea44ce38",
   "metadata": {},
   "outputs": [],
   "source": [
    "import pandas as pd"
   ]
  },
  {
   "cell_type": "code",
   "execution_count": 15,
   "id": "f1de6046",
   "metadata": {},
   "outputs": [],
   "source": [
    "from pyspark import SparkContext\n",
    "from pyspark.streaming import StreamingContext\n",
    "from pyspark.sql import SQLContext\n",
    "from pyspark.sql.functions import desc"
   ]
  },
  {
   "cell_type": "code",
   "execution_count": 16,
   "id": "e984baed",
   "metadata": {},
   "outputs": [],
   "source": [
    "sc = SparkContext()"
   ]
  },
  {
   "cell_type": "code",
   "execution_count": 22,
   "id": "afbdeff1",
   "metadata": {},
   "outputs": [],
   "source": [
    "ssc = StreamingContext(sc,10)\n",
    "sqlContext = SQLContext(sc)"
   ]
  },
  {
   "cell_type": "code",
   "execution_count": 38,
   "id": "bbc05fa4",
   "metadata": {},
   "outputs": [],
   "source": [
    "socket_stream = ssc.socketTextStream(\"127.0.0.1\", 9999)"
   ]
  },
  {
   "cell_type": "code",
   "execution_count": 24,
   "id": "9be68aab",
   "metadata": {},
   "outputs": [],
   "source": [
    "lines = socket_stream.window(20)"
   ]
  },
  {
   "cell_type": "code",
   "execution_count": 26,
   "id": "e7de3ff8",
   "metadata": {},
   "outputs": [],
   "source": [
    "from collections import namedtuple\n",
    "fields = (\"tag\", \"count\")\n",
    "Tweet = namedtuple('Tweet', fields)"
   ]
  },
  {
   "cell_type": "code",
   "execution_count": 56,
   "id": "000ee8ad",
   "metadata": {},
   "outputs": [],
   "source": [
    "# use Parenthesis for multiple lines or use \\\n",
    "lines.flatMap(lambda text: text.split(\" \"))\\\n",
    ".filter(lambda word: word.lower().startswith('#'))\\\n",
    ".map(lambda word: (word.lower(),1))\\\n",
    ".foreachRDD(lambda rdd: rdd.toDF().sort(desc(\"count\")))\\\n",
    "# .limit(10).registerTempTable(\"tweets\")"
   ]
  },
  {
   "cell_type": "markdown",
   "id": "379de790",
   "metadata": {},
   "source": [
    "# Running"
   ]
  },
  {
   "cell_type": "code",
   "execution_count": null,
   "id": "7a0fb571",
   "metadata": {},
   "outputs": [],
   "source": []
  }
 ],
 "metadata": {
  "kernelspec": {
   "display_name": "Python 3 (ipykernel)",
   "language": "python",
   "name": "python3"
  },
  "language_info": {
   "codemirror_mode": {
    "name": "ipython",
    "version": 3
   },
   "file_extension": ".py",
   "mimetype": "text/x-python",
   "name": "python",
   "nbconvert_exporter": "python",
   "pygments_lexer": "ipython3",
   "version": "3.9.7"
  }
 },
 "nbformat": 4,
 "nbformat_minor": 5
}
