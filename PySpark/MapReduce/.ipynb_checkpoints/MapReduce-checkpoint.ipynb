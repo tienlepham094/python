{
 "cells": [
  {
   "cell_type": "markdown",
   "id": "7be5a120",
   "metadata": {},
   "source": [
    "# Map Reduce"
   ]
  },
  {
   "cell_type": "markdown",
   "id": "6ebb863b",
   "metadata": {},
   "source": [
    "The MapReduce programming technique was designed to analyze massive data sets across cluster\n",
    "In this Jupyter notebook, you will get a sense for how Hadoop MapReduce works, however, this\n",
    "notebook will run locally rather than on a cluster"
   ]
  },
  {
   "cell_type": "markdown",
   "id": "f858abb3",
   "metadata": {},
   "source": [
    "The biggest difference between Hadoop and Spark is that Spark tries to do as many calculations as\n",
    "possible in memory. which avoids moving data back and forth across a cluster. Hadoop writes intermediate claculations out to disk\n",
    "which can be less efficient. Hadoop is an older technology than Spark and one of the cornerstone big data technologies"
   ]
  },
  {
   "cell_type": "code",
   "execution_count": 7,
   "id": "4d77f123",
   "metadata": {},
   "outputs": [
    {
     "name": "stdout",
     "output_type": "stream",
     "text": [
      "Requirement already satisfied: mrjob in c:\\users\\admin\\anaconda3\\lib\\site-packages (0.7.4)\n",
      "Requirement already satisfied: PyYAML>=3.10 in c:\\users\\admin\\anaconda3\\lib\\site-packages (from mrjob) (6.0)\n"
     ]
    }
   ],
   "source": [
    "#Instal mrjob libray. This package is for running MapReduce\n",
    "#In Jupyter notebooks, \"!\" runs terminal commands from inside\n",
    "\n",
    "!pip install mrjob"
   ]
  },
  {
   "cell_type": "code",
   "execution_count": 22,
   "id": "31dd1544",
   "metadata": {},
   "outputs": [
    {
     "name": "stdout",
     "output_type": "stream",
     "text": [
      "Overwriting wordcount.py\n"
     ]
    }
   ],
   "source": [
    "%%file wordcount.py\n",
    "# %%file is an Ipython magic function that saves the code cell as a file\n",
    "from mrjob.job import MRJob #import the mrjob library\n",
    "\n",
    "class MRSongCount(MRJob):\n",
    "    # the map step: each line in the txt file is read as a key, value pair\n",
    "    # in this case, each line in the txt file only contains a value but no key\n",
    "    # _ means that in this case, there is no key for each line\n",
    "    def mapper(self,_,song):\n",
    "        #output ech line as a (tuple_names,1)\n",
    "        yield(song,1)\n",
    "        \n",
    "    #the reduce step: combine all tuples with the same key\n",
    "    #in this case, the key is the song name\n",
    "    # then summ all values of the tuple, which will give the total song plays\n",
    "    def reducer(self, key, values):\n",
    "        yield(key, sum(values))\n",
    "    \n",
    "if __name__ == \"__main__\":\n",
    "    MRSongCount.run()"
   ]
  },
  {
   "cell_type": "code",
   "execution_count": 23,
   "id": "4a939a5b",
   "metadata": {},
   "outputs": [
    {
     "name": "stdout",
     "output_type": "stream",
     "text": [
      "\"Broken Networks\"\t510\n",
      "\"Data House Rock\"\t828\n",
      "\"Deep Dreams\"\t1131\n"
     ]
    },
    {
     "name": "stderr",
     "output_type": "stream",
     "text": [
      "No configs found; falling back on auto-configuration\n",
      "No configs specified for inline runner\n",
      "Creating temp directory C:\\Users\\admin\\AppData\\Local\\Temp\\wordcount.admin.20220703.053732.424264\n",
      "Running step 1 of 1...\n",
      "job output is in C:\\Users\\admin\\AppData\\Local\\Temp\\wordcount.admin.20220703.053732.424264\\output\n",
      "Streaming final output from C:\\Users\\admin\\AppData\\Local\\Temp\\wordcount.admin.20220703.053732.424264\\output...\n",
      "Removing temp directory C:\\Users\\admin\\AppData\\Local\\Temp\\wordcount.admin.20220703.053732.424264...\n"
     ]
    }
   ],
   "source": [
    "! python wordcount.py songplays.txt"
   ]
  },
  {
   "cell_type": "code",
   "execution_count": null,
   "id": "9ecb3537",
   "metadata": {},
   "outputs": [],
   "source": []
  }
 ],
 "metadata": {
  "kernelspec": {
   "display_name": "Python 3 (ipykernel)",
   "language": "python",
   "name": "python3"
  },
  "language_info": {
   "codemirror_mode": {
    "name": "ipython",
    "version": 3
   },
   "file_extension": ".py",
   "mimetype": "text/x-python",
   "name": "python",
   "nbconvert_exporter": "python",
   "pygments_lexer": "ipython3",
   "version": "3.9.7"
  }
 },
 "nbformat": 4,
 "nbformat_minor": 5
}
